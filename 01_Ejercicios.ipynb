{
  "nbformat": 4,
  "nbformat_minor": 0,
  "metadata": {
    "colab": {
      "provenance": [],
      "include_colab_link": true
    },
    "kernelspec": {
      "name": "python3",
      "display_name": "Python 3"
    },
    "language_info": {
      "name": "python"
    }
  },
  "cells": [
    {
      "cell_type": "markdown",
      "metadata": {
        "id": "view-in-github",
        "colab_type": "text"
      },
      "source": [
        "<a href=\"https://colab.research.google.com/github/dinamicjuanjo/Curso-Python_techguy/blob/main/01_Ejercicios.ipynb\" target=\"_parent\"><img src=\"https://colab.research.google.com/assets/colab-badge.svg\" alt=\"Open In Colab\"/></a>"
      ]
    },
    {
      "cell_type": "markdown",
      "source": [
        "# **EJERCICIOS**\n",
        "---"
      ],
      "metadata": {
        "id": "2dmSdSyqKvr-"
      }
    },
    {
      "cell_type": "markdown",
      "source": [
        "Entendido, aquí están los enunciados modificados eliminando los ejercicios que involucran operaciones matemáticas, lógicas, comparativas y entradas del usuario:\n",
        "\n",
        "1. **Variables y Enteros:**\n",
        "   - Declara una variable llamada `edad` y asígnale tu edad. Imprime la variable.\n",
        "\n",
        "2. **Punto Flotante:**\n",
        "   - Declara una variable llamada `altura` y asígnale tu altura en metros. Imprime la variable.\n",
        "\n",
        "3. **Cadena de Texto:**\n",
        "   - Declara una variable llamada `nombre` y asígnale tu nombre. Imprime la variable.\n",
        "\n",
        "4. **Booleanos:**\n",
        "   - Declara una variable llamada `es_estudiante` y asígnale el valor `True` si eres estudiante, o `False` si no lo eres. Imprime la variable.\n",
        "\n",
        "5. **Conversión de Tipos:**\n",
        "   - Declara una variable `numero_str` y asígnale el valor `\"25\"`. Convierte esta variable a un entero e imprímela.\n",
        "\n",
        "6. **Uso de Comillas Dobles y Simples:**\n",
        "   - Crea una variable con una cadena que contenga tanto comillas dobles como simples.\n",
        "\n",
        "7. **Booleano a Número:**\n",
        "   - Declara una variable booleana y conviértela a un número entero. Imprime el resultado.\n",
        "\n",
        "8. **Asignación Múltiple:**\n",
        "    - Declara tres variables en una sola línea con valores numéricos. Imprime el resultado.\n",
        "    \n",
        "9. **Infinito decimal**\n",
        "    - Crea una variable de tipo texto que al convertirla a decimal sea infinito. Imprime el resultado."
      ],
      "metadata": {
        "id": "1dpTGIoTK3jH"
      }
    },
    {
      "cell_type": "markdown",
      "source": [
        "# **SOLUCIONES**\n",
        "---\n"
      ],
      "metadata": {
        "id": "o4xO_UpjKzTB"
      }
    },
    {
      "cell_type": "code",
      "source": [
        "#Ejercicio 1\n",
        "edad=20\n",
        "print('Mi edad es: ', edad)"
      ],
      "metadata": {
        "id": "-pFTLuj2LOBw"
      },
      "execution_count": null,
      "outputs": []
    },
    {
      "cell_type": "code",
      "source": [
        "#Ejercicio 2\n",
        "altura=1.80\n",
        "print('Mi altura es: ', altura)"
      ],
      "metadata": {
        "id": "QlmLKy3ULS86"
      },
      "execution_count": null,
      "outputs": []
    },
    {
      "cell_type": "code",
      "source": [
        "#Ejercicio 3\n",
        "nombre='Mario'\n",
        "print('Mi nombre es: ',nombre)"
      ],
      "metadata": {
        "id": "IEk8A2qjLY4h"
      },
      "execution_count": null,
      "outputs": []
    },
    {
      "cell_type": "code",
      "source": [
        "#Ejercicio 4\n",
        "es_estudiante=True\n",
        "print('¿Soy estudiante? ', es_estudiante)"
      ],
      "metadata": {
        "id": "TH-4STuILc09"
      },
      "execution_count": null,
      "outputs": []
    },
    {
      "cell_type": "code",
      "source": [
        "#Ejercicio 5\n",
        "numero_str='25'\n",
        "print(int(numero_str))"
      ],
      "metadata": {
        "colab": {
          "base_uri": "https://localhost:8080/"
        },
        "id": "CwRKPNd8LhfU",
        "outputId": "c49ae9be-0178-457a-dd44-be3b542d57db"
      },
      "execution_count": null,
      "outputs": [
        {
          "output_type": "stream",
          "name": "stdout",
          "text": [
            "25\n"
          ]
        }
      ]
    },
    {
      "cell_type": "code",
      "source": [
        "#Ejercicio 6\n",
        "variable='hola que tal \"soy pepito\" el grillo'\n",
        "print(variable)"
      ],
      "metadata": {
        "id": "nIA0mrDgMQbM"
      },
      "execution_count": null,
      "outputs": []
    },
    {
      "cell_type": "code",
      "source": [
        "#Ejercicio 7\n",
        "var=True\n",
        "print(int(var))"
      ],
      "metadata": {
        "id": "NUQHJrqjMpMz"
      },
      "execution_count": null,
      "outputs": []
    },
    {
      "cell_type": "code",
      "source": [
        "#Ejercicio 8\n",
        "var1, var2, var3 = 1, 2, 3\n",
        "print(var1)\n",
        "print(var2)\n",
        "print(var3)"
      ],
      "metadata": {
        "id": "fpwh4oqcM2mS"
      },
      "execution_count": null,
      "outputs": []
    },
    {
      "cell_type": "code",
      "source": [
        "#Ejercicio 9\n",
        "palabra='Infinity'\n",
        "\n",
        "print(float(palabra))"
      ],
      "metadata": {
        "id": "vOFY2npNNhED"
      },
      "execution_count": null,
      "outputs": []
    }
  ]
}