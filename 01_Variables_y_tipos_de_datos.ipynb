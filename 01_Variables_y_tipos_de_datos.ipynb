{
  "nbformat": 4,
  "nbformat_minor": 0,
  "metadata": {
    "colab": {
      "provenance": [],
      "include_colab_link": true
    },
    "kernelspec": {
      "name": "python3",
      "display_name": "Python 3"
    },
    "language_info": {
      "name": "python"
    }
  },
  "cells": [
    {
      "cell_type": "markdown",
      "metadata": {
        "id": "view-in-github",
        "colab_type": "text"
      },
      "source": [
        "<a href=\"https://colab.research.google.com/github/dinamicjuanjo/Curso-Python_techguy/blob/main/01_Variables_y_tipos_de_datos.ipynb\" target=\"_parent\"><img src=\"https://colab.research.google.com/assets/colab-badge.svg\" alt=\"Open In Colab\"/></a>"
      ]
    },
    {
      "cell_type": "markdown",
      "source": [
        "# 🐍 Módulo 1: ¡Bienvenidos a Python con Colab! 🚀\n",
        "---\n",
        "¡Saludos y bienvenidos al Módulo 1 de nuestro emocionante Curso de Python! En esta sección, nos sumergiremos en el fascinante mundo de la programación con Python, haciendo uso de la magia de Google Colab.\n",
        "\n",
        "🔍 Durante este módulo, exploraremos los conceptos esenciales de Python, desde variables y operadores hasta estructuras de control de flujo. Utilizaremos Google Colab como nuestro entorno de desarrollo, permitiéndonos ejecutar y experimentar con código Python de manera interactiva.\n",
        "\n",
        "🚀 Prepárense para un viaje de aprendizaje práctico y amigable. ¡Comencemos nuestro emocionante viaje de programación juntos!\n",
        "\n"
      ],
      "metadata": {
        "id": "Gu51szdGKpDA"
      }
    },
    {
      "cell_type": "code",
      "execution_count": null,
      "metadata": {
        "colab": {
          "base_uri": "https://localhost:8080/"
        },
        "id": "HxzzIHXzKiZ_",
        "outputId": "58030af2-68cd-4e98-8849-2cca6a417de8"
      },
      "outputs": [
        {
          "output_type": "stream",
          "name": "stdout",
          "text": [
            "¡Hola Pepito!\n"
          ]
        }
      ],
      "source": [
        "print(\"¡Hola Pepito!\")"
      ]
    },
    {
      "cell_type": "markdown",
      "source": [
        "---\n",
        "# **Importancia de los Comentarios en Código**\n",
        "\n",
        "Al añadir comentarios, proporcionamos claridad y facilitamos la comprensión del código, tanto para nosotros mismos como para otros desarrolladores que puedan trabajar con él en el futuro.\n",
        "\n",
        "Los comentarios actúan como documentación viva, destacando las decisiones de diseño y las consideraciones importantes. En resumen, son herramientas esenciales para la colaboración y el mantenimiento efectivo del código. 🚀📚 ¡Nunca subestimes el poder de una buena explicación! ✨👩‍💻👨‍💻\n"
      ],
      "metadata": {
        "id": "7I8W_XCrNPhR"
      }
    },
    {
      "cell_type": "code",
      "source": [
        "#Esto es un comentario"
      ],
      "metadata": {
        "id": "OFCfbPEZMdwx"
      },
      "execution_count": null,
      "outputs": []
    },
    {
      "cell_type": "code",
      "source": [
        "\"\"\"\n",
        "Esto es un comentario\n",
        "en varias lineas\n",
        "Es mas cómodo :)\n",
        "\"\"\""
      ],
      "metadata": {
        "id": "aH39b5OdMvbU"
      },
      "execution_count": null,
      "outputs": []
    },
    {
      "cell_type": "markdown",
      "source": [
        "---\n",
        "# **Variables y Tipos de Datos**\n",
        "En Python, utilizamos variables para almacenar información. Pueden contener diferentes tipos de datos, como números enteros, decimales, cadenas de texto y valores lógicos/Booleanos (True o False).\n",
        "\n",
        "#### Reglas para nombrar variables\n",
        "- El nombre de una variable sólo puede contener letras, números y barras bajas (underscore). El nombre de una variable puede empezar con un underscore o letra pero no con un número."
      ],
      "metadata": {
        "id": "ZPRhOPHQPJKM"
      }
    },
    {
      "cell_type": "code",
      "source": [
        "#Declaramos las variables con los diferentes tipos\n",
        "\n",
        "a=10  #Tipo entero : int\n",
        "\n",
        "b=10.5  #Tipo decimal : float\n",
        "\n",
        "c='Hola a todos' #Tipo texto : str\n",
        "\n",
        "d=True  #Tipo booleano: bool\n",
        "\n",
        "#Para declarar multiples variables a la vez\n",
        "variable1 = variable2 = 0\n",
        "variable3, variable4 = 1, 2\n",
        "\n",
        "print(c)\n"
      ],
      "metadata": {
        "colab": {
          "base_uri": "https://localhost:8080/"
        },
        "id": "f_1V8afDPck5",
        "outputId": "65b5ae81-8044-47dd-d444-11c2ad0ba1a5"
      },
      "execution_count": null,
      "outputs": [
        {
          "output_type": "stream",
          "name": "stdout",
          "text": [
            "Hola a todos\n"
          ]
        }
      ]
    },
    {
      "cell_type": "markdown",
      "source": [
        "## **TIPO ENTERO (int)**\n",
        "Un número entero es cualquier número que pertenezca al conjunto de números naturales, sus negativos, y el cero. En Python un número entero es de tipo **int**. En esta sección introducimos las funciones <i>type()</i> y <i>isinstance()</i>.\n",
        "\n",
        "* La función <i>type()</i> devuelve el tipo de clase del argumento que se pasa como parámetro.\n",
        "* La función <i>isinstance()</i> comprueba si la clase del argumento es del tipo que se indica."
      ],
      "metadata": {
        "id": "YIYiqKlMSXDU"
      }
    },
    {
      "cell_type": "code",
      "source": [
        "entero=10\n",
        "\n",
        "print(type(entero))\n",
        "\n",
        "print(isinstance(entero,int))"
      ],
      "metadata": {
        "colab": {
          "base_uri": "https://localhost:8080/"
        },
        "id": "fpgygIARCbsx",
        "outputId": "e19191a0-b772-41e5-bfef-cb5487676a15"
      },
      "execution_count": null,
      "outputs": [
        {
          "output_type": "stream",
          "name": "stdout",
          "text": [
            "<class 'int'>\n"
          ]
        }
      ]
    },
    {
      "cell_type": "markdown",
      "source": [
        "Para convertir a la clase entero usamos int()"
      ],
      "metadata": {
        "id": "wME92s3kPIZ6"
      }
    },
    {
      "cell_type": "code",
      "source": [
        "#Conversiones\n",
        "\n",
        "var=int('29')\n",
        "\n",
        "print(type(var),var)\n",
        "\n",
        "var2=int(False)\n",
        "\n",
        "print(type(var2),var2)\n",
        "\n",
        "var3=int(10.7)\n",
        "\n",
        "print(type(var3),var3)"
      ],
      "metadata": {
        "colab": {
          "base_uri": "https://localhost:8080/"
        },
        "id": "JKKQXThYKp5y",
        "outputId": "798746df-3ea9-44e8-8504-9baca948cef6"
      },
      "execution_count": null,
      "outputs": [
        {
          "output_type": "stream",
          "name": "stdout",
          "text": [
            "<class 'int'> 29\n",
            "<class 'int'> 0\n",
            "<class 'int'> 10\n"
          ]
        }
      ]
    },
    {
      "cell_type": "markdown",
      "source": [
        "### **Tipo real o punto flotante (float)**\n",
        "Un número real o de punto flotante es un número decimal con precisión limitada. En Python un número real es de tipo **float**.\n",
        "\n",
        "Enlaces de interés:\n",
        "* https://en.wikipedia.org/wiki/Floating-point_arithmetic\n",
        "* https://docs.python.org/3/tutorial/floatingpoint.html"
      ],
      "metadata": {
        "id": "RIEhmZjJOjVc"
      }
    },
    {
      "cell_type": "code",
      "source": [
        "decimal=10.5\n",
        "\n",
        "print(type(decimal))\n",
        "\n",
        "print(isinstance(decimal,float))"
      ],
      "metadata": {
        "colab": {
          "base_uri": "https://localhost:8080/"
        },
        "id": "EUMALJl3LDZv",
        "outputId": "fd4bec87-2490-4975-c901-b201a6482312"
      },
      "execution_count": null,
      "outputs": [
        {
          "output_type": "stream",
          "name": "stdout",
          "text": [
            "<class 'float'>\n",
            "True\n"
          ]
        }
      ]
    },
    {
      "cell_type": "markdown",
      "source": [
        "Para convertir a la clase decimal usamos float()"
      ],
      "metadata": {
        "id": "qDix03niPMJ4"
      }
    },
    {
      "cell_type": "code",
      "source": [
        "#Conversiones\n",
        "\n",
        "var=float('29.8')\n",
        "\n",
        "print(type(var),var)\n",
        "\n",
        "var2=float(3)\n",
        "\n",
        "print(type(var2),var2)\n",
        "\n",
        "var3=float('Infinity')\n",
        "\n",
        "print(type(var3),var3)"
      ],
      "metadata": {
        "colab": {
          "base_uri": "https://localhost:8080/"
        },
        "id": "c3vjSxV_PE3R",
        "outputId": "05d823ee-1d26-45ff-fad5-69c2834dc484"
      },
      "execution_count": null,
      "outputs": [
        {
          "output_type": "stream",
          "name": "stdout",
          "text": [
            "<class 'float'> 29.8\n",
            "<class 'float'> 3.0\n",
            "<class 'float'> inf\n"
          ]
        }
      ]
    },
    {
      "cell_type": "markdown",
      "source": [
        "### **Tipo cadena de caracteres (str)**\n",
        "El tipo cadena de caracteres o simplemente cadena o string, es una secuencia de caracteres. Las cadenas se delimitan empleando comillas simples o dobles. En Python una cadena de caracteres es de tipo **str**."
      ],
      "metadata": {
        "id": "MS9pfB3_XITv"
      }
    },
    {
      "cell_type": "code",
      "source": [
        "texto='hola que tal'\n",
        "\n",
        "print(type(texto))\n",
        "\n",
        "print(isinstance(texto,str))"
      ],
      "metadata": {
        "colab": {
          "base_uri": "https://localhost:8080/"
        },
        "id": "niXE9rqARFhM",
        "outputId": "a1caf1ec-ac78-4810-c424-067137490bd8"
      },
      "execution_count": null,
      "outputs": [
        {
          "output_type": "stream",
          "name": "stdout",
          "text": [
            "<class 'str'>\n",
            "True\n"
          ]
        }
      ]
    },
    {
      "cell_type": "markdown",
      "source": [
        "Para convertir a tipo string usamos str()"
      ],
      "metadata": {
        "id": "Q-RmVKHtYILG"
      }
    },
    {
      "cell_type": "code",
      "source": [
        "var=str(1273)\n",
        "\n",
        "print(type(var),var)"
      ],
      "metadata": {
        "colab": {
          "base_uri": "https://localhost:8080/"
        },
        "id": "m8hxVqJLYGcR",
        "outputId": "a405817e-73ac-40cb-e87f-64ef2ca7d763"
      },
      "execution_count": null,
      "outputs": [
        {
          "output_type": "stream",
          "name": "stdout",
          "text": [
            "<class 'str'> 1273\n"
          ]
        }
      ]
    },
    {
      "cell_type": "markdown",
      "source": [
        "Comillas simples y comillas dobles"
      ],
      "metadata": {
        "id": "UWiZEgEpYumM"
      }
    },
    {
      "cell_type": "code",
      "source": [
        "#se puede\n",
        "print('kashdjka')\n",
        "print(\"akjshda\")\n",
        "\n",
        "print(\"halsdalkd '\")"
      ],
      "metadata": {
        "colab": {
          "base_uri": "https://localhost:8080/"
        },
        "id": "KQPQrqqXYN5m",
        "outputId": "28b2117e-a4a7-4903-f05e-540a1c7f0dea"
      },
      "execution_count": null,
      "outputs": [
        {
          "output_type": "stream",
          "name": "stdout",
          "text": [
            "kashdjka\n",
            "akjshda\n",
            "halsdalkd '\n"
          ]
        }
      ]
    },
    {
      "cell_type": "markdown",
      "source": [
        "Para que salte los caracteres"
      ],
      "metadata": {
        "id": "FTy4cSCjY_z7"
      }
    },
    {
      "cell_type": "code",
      "source": [
        "print(\"hoa que tal estas \\\" hola que tal \")"
      ],
      "metadata": {
        "colab": {
          "base_uri": "https://localhost:8080/"
        },
        "id": "3IjZPmvqYz9y",
        "outputId": "da1e38d0-a458-4572-d783-e6604c31bec7"
      },
      "execution_count": null,
      "outputs": [
        {
          "output_type": "stream",
          "name": "stdout",
          "text": [
            "hoa que tal estas \\ hola que tal \n"
          ]
        }
      ]
    },
    {
      "cell_type": "markdown",
      "source": [
        "Los strings tienen algunos caracteres epeciales:\n",
        "\n",
        " - \\n - Salto de linea\n",
        " - \\t - tabulacion\n",
        " - \\r - empieza desde ese caracter"
      ],
      "metadata": {
        "id": "-nyb_Uc3ZYNy"
      }
    },
    {
      "cell_type": "code",
      "source": [
        "print('hola \\rque tal')"
      ],
      "metadata": {
        "colab": {
          "base_uri": "https://localhost:8080/"
        },
        "id": "uT7FSL_KZHw6",
        "outputId": "22454344-8d58-400f-fe67-3ede0a7d27c4"
      },
      "execution_count": null,
      "outputs": [
        {
          "output_type": "stream",
          "name": "stdout",
          "text": [
            "hola \rque tal\n"
          ]
        }
      ]
    },
    {
      "cell_type": "markdown",
      "source": [
        "#### Cadenas brutas (raw strings)\n",
        "Al añadir r antes de una cadena, los caracteres especiales no tiene efecto y se muestra tal cual"
      ],
      "metadata": {
        "id": "ilWGN59eZ0Bv"
      }
    },
    {
      "cell_type": "code",
      "source": [
        "print(r'hola \\nque tal ')"
      ],
      "metadata": {
        "colab": {
          "base_uri": "https://localhost:8080/"
        },
        "id": "zP3ur9RtZn9y",
        "outputId": "fa21eac1-8aac-4d85-d57d-35c81f641cef"
      },
      "execution_count": null,
      "outputs": [
        {
          "output_type": "stream",
          "name": "stdout",
          "text": [
            "hola \\nque tal \n"
          ]
        }
      ]
    },
    {
      "cell_type": "markdown",
      "source": [
        "### Comilla triple\n",
        "Al igual que funciona para los comentarios tambien funciona para las cadenas de texto"
      ],
      "metadata": {
        "id": "TP_zgQIzaCWz"
      }
    },
    {
      "cell_type": "code",
      "source": [
        "print('''\n",
        "hol auqe alkrlf alkhdlahd\n",
        "akdaksf\n",
        "akshdal\n",
        "''')"
      ],
      "metadata": {
        "colab": {
          "base_uri": "https://localhost:8080/"
        },
        "id": "bUqRfiDhZ9yh",
        "outputId": "2b29daaa-220f-4a14-b4c5-873628b41580"
      },
      "execution_count": null,
      "outputs": [
        {
          "output_type": "stream",
          "name": "stdout",
          "text": [
            " \n",
            "hol auqe alkrlf alkhdlahd\n",
            "akdaksf\n",
            "akshdal\n",
            "\n"
          ]
        }
      ]
    },
    {
      "cell_type": "markdown",
      "source": [
        "### **Tipo booleano (bool)**\n",
        "Hay otro tipo de datos que se usa muy frecuentemente en programación: el tipo de datos lógico o booleano, llamado así por ser propio del [álgebra de Boole](https://en.wikipedia.org/wiki/Boolean_algebra). Un dato de tipo lógico sólo puede presentar uno de dos valores: **True** o **False**, es decir, verdadero o falso. En Python un booleano es de tipo **bool**."
      ],
      "metadata": {
        "id": "wLta-1SoaVgF"
      }
    },
    {
      "cell_type": "code",
      "source": [
        "boleano=True\n",
        "\n",
        "print(type(boleano))\n",
        "\n",
        "print(isinstance(boleano, bool))"
      ],
      "metadata": {
        "colab": {
          "base_uri": "https://localhost:8080/"
        },
        "id": "Sa0PCablaMwq",
        "outputId": "03801160-08fb-4269-e025-86bc3cc049a5"
      },
      "execution_count": null,
      "outputs": [
        {
          "output_type": "stream",
          "name": "stdout",
          "text": [
            "<class 'bool'>\n",
            "True\n"
          ]
        }
      ]
    },
    {
      "cell_type": "markdown",
      "source": [
        "Podemos convertir a booleano con bool()"
      ],
      "metadata": {
        "id": "CGIVJvNsakv-"
      }
    },
    {
      "cell_type": "code",
      "source": [
        "#Conversiones\n",
        "\n",
        "var=0\n",
        "\n",
        "print(bool(var))\n",
        "\n",
        "var2=\"\"\n",
        "\n",
        "print(bool(var2))\n",
        "\n"
      ],
      "metadata": {
        "colab": {
          "base_uri": "https://localhost:8080/"
        },
        "id": "VcdxdpcMagSD",
        "outputId": "7ccdb058-bd22-4f4c-9ed6-8a0054c47859"
      },
      "execution_count": null,
      "outputs": [
        {
          "output_type": "stream",
          "name": "stdout",
          "text": [
            "False\n",
            "False\n"
          ]
        }
      ]
    },
    {
      "cell_type": "code",
      "source": [],
      "metadata": {
        "id": "cIlqcuuZatWj"
      },
      "execution_count": null,
      "outputs": []
    }
  ]
}