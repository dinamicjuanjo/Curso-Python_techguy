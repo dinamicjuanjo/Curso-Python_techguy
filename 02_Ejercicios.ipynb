{
  "nbformat": 4,
  "nbformat_minor": 0,
  "metadata": {
    "colab": {
      "provenance": [],
      "include_colab_link": true
    },
    "kernelspec": {
      "name": "python3",
      "display_name": "Python 3"
    },
    "language_info": {
      "name": "python"
    }
  },
  "cells": [
    {
      "cell_type": "markdown",
      "metadata": {
        "id": "view-in-github",
        "colab_type": "text"
      },
      "source": [
        "<a href=\"https://colab.research.google.com/github/dinamicjuanjo/Curso-Python_techguy/blob/main/02_Ejercicios.ipynb\" target=\"_parent\"><img src=\"https://colab.research.google.com/assets/colab-badge.svg\" alt=\"Open In Colab\"/></a>"
      ]
    },
    {
      "cell_type": "markdown",
      "source": [
        "\n",
        "\n",
        "\n",
        "# **Ejercicios:**\n",
        "---\n",
        "\n",
        "1. **Práctica de Indexación:**\n",
        "   - Dada la cadena \"Python\", imprime el primer y último caracteres utilizando indexación.\n",
        "\n",
        "2. **Slicing:**\n",
        "   - Dada la cadena \"Programación\", crea una nueva cadena que contenga solo los caracteres desde el índice 3 hasta el índice 8.\n",
        "\n",
        "3. **Striding:**\n",
        "   - Dada la cadena \"abcdefghij\", imprime solo los caracteres en posiciones pares.\n",
        "\n",
        "4. **Indexación Negativa:**\n",
        "   - Dada la cadena \"Datos\", imprime el último carácter utilizando indexación negativa.\n",
        "\n",
        "5. **Slicing con Saltos:**\n",
        "   - Dada la cadena \"abcdefghijklmno\", crea una nueva cadena que contenga los caracteres en posiciones impares.\n",
        "\n",
        "6. **Indexación Múltiple:**\n",
        "   - Dada la cadena \"Pythonista\", imprime los caracteres en las posiciones 2, 4 y 6 utilizando indexación.\n",
        "\n",
        "7. **Striding Reverso:**\n",
        "   - Dada la cadena \"ABCDE\", imprime la cadena en orden inverso utilizando un paso negativo.\n",
        "\n",
        "8. **Slicing con Longitud Variable:**\n",
        "   - Dada la cadena \"Elefante\", crea una nueva cadena que contenga los primeros tres y últimos tres caracteres.\n",
        "\n",
        "9. **Striding Inverso:**\n",
        "   - Dada la cadena \"123456789\", imprime los dígitos en orden inverso utilizando un paso negativo.\n",
        "\n",
        "10. **Slicing desde el Final:**\n",
        "    - Dada la cadena \"Python es genial\", crea una nueva cadena que contenga los últimos 8 caracteres.\n",
        "\n"
      ],
      "metadata": {
        "id": "nL8ymm7PIRl-"
      }
    },
    {
      "cell_type": "code",
      "execution_count": null,
      "metadata": {
        "id": "e1XZpQQ3H1dN"
      },
      "outputs": [],
      "source": [
        "#Ejercicio 1\n"
      ]
    },
    {
      "cell_type": "markdown",
      "source": [
        "# **Soluciones**\n",
        "---"
      ],
      "metadata": {
        "id": "YUNSkXbdId_W"
      }
    },
    {
      "cell_type": "code",
      "source": [
        "# Solución Ejercicio 1: Práctica de Indexación\n",
        "cadena = \"Python\"\n",
        "print(cadena[0])  # Primer carácter\n",
        "print(cadena[-1])  # Último carácter"
      ],
      "metadata": {
        "id": "2Th5MOIRIvgH"
      },
      "execution_count": null,
      "outputs": []
    },
    {
      "cell_type": "code",
      "source": [
        "# Solución Ejercicio 2: Slicing\n",
        "cadena = \"Programación\"\n",
        "nueva_cadena = cadena[3:9]\n",
        "print(nueva_cadena)"
      ],
      "metadata": {
        "id": "YeMWTLrSIwPQ"
      },
      "execution_count": null,
      "outputs": []
    },
    {
      "cell_type": "code",
      "source": [
        "# Solución Ejercicio 3: Striding\n",
        "cadena = \"abcdefghij\"\n",
        "print(cadena[::2])  # Caracteres en posiciones pares"
      ],
      "metadata": {
        "id": "oeJclwAcIyeI"
      },
      "execution_count": null,
      "outputs": []
    },
    {
      "cell_type": "code",
      "source": [
        "# Solución Ejercicio 4: Indexación Negativa\n",
        "cadena = \"Datos\"\n",
        "print(cadena[-1])  # Último carácter"
      ],
      "metadata": {
        "id": "tDZpZQwiI0cS"
      },
      "execution_count": null,
      "outputs": []
    },
    {
      "cell_type": "code",
      "source": [
        "# Solución Ejercicio 5: Slicing con Saltos\n",
        "cadena = \"abcdefghijklmno\"\n",
        "nueva_cadena = cadena[1::2]  # Caracteres en posiciones impares\n",
        "print(nueva_cadena)"
      ],
      "metadata": {
        "id": "P72Xky38I2j-"
      },
      "execution_count": null,
      "outputs": []
    },
    {
      "cell_type": "code",
      "source": [
        "# Solución Ejercicio 6: Indexación Múltiple\n",
        "cadena = \"Pythonista\"\n",
        "print(cadena[2], cadena[4], cadena[6])  # Caracteres en posiciones 2, 4 y 6\n"
      ],
      "metadata": {
        "id": "tFB7l07mI7hL"
      },
      "execution_count": null,
      "outputs": []
    },
    {
      "cell_type": "code",
      "source": [
        "# Solución Ejercicio 7: Striding Reverso\n",
        "cadena = \"ABCDE\"\n",
        "print(cadena[::-1])  # Cadena en orden inverso"
      ],
      "metadata": {
        "id": "zM0ZLFjSI90w"
      },
      "execution_count": null,
      "outputs": []
    },
    {
      "cell_type": "code",
      "source": [
        "# Solución Ejercicio 8: Slicing con Longitud Variable\n",
        "cadena = \"Elefante\"\n",
        "nueva_cadena = cadena[:3] + cadena[-3:]\n",
        "print(nueva_cadena)"
      ],
      "metadata": {
        "id": "fuK3PB9xI_zE"
      },
      "execution_count": null,
      "outputs": []
    },
    {
      "cell_type": "code",
      "source": [
        "# Solución Ejercicio 9: Striding Inverso\n",
        "cadena = \"123456789\"\n",
        "print(cadena[::-1])  # Dígitos en orden inverso"
      ],
      "metadata": {
        "id": "tQ3wcqS7JDA3"
      },
      "execution_count": null,
      "outputs": []
    },
    {
      "cell_type": "code",
      "source": [
        "# Solución Ejercicio 10: Slicing desde el Final\n",
        "cadena = \"Python es genial\"\n",
        "nueva_cadena = cadena[-8:]\n",
        "print(nueva_cadena)"
      ],
      "metadata": {
        "id": "4q66yK1DJEsw"
      },
      "execution_count": null,
      "outputs": []
    }
  ]
}