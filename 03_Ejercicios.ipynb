{
  "nbformat": 4,
  "nbformat_minor": 0,
  "metadata": {
    "colab": {
      "provenance": [],
      "include_colab_link": true
    },
    "kernelspec": {
      "name": "python3",
      "display_name": "Python 3"
    },
    "language_info": {
      "name": "python"
    }
  },
  "cells": [
    {
      "cell_type": "markdown",
      "metadata": {
        "id": "view-in-github",
        "colab_type": "text"
      },
      "source": [
        "<a href=\"https://colab.research.google.com/github/dinamicjuanjo/Curso-Python_techguy/blob/main/03_Ejercicios.ipynb\" target=\"_parent\"><img src=\"https://colab.research.google.com/assets/colab-badge.svg\" alt=\"Open In Colab\"/></a>"
      ]
    },
    {
      "cell_type": "markdown",
      "source": [
        "# **Ejercicios**\n",
        "---\n",
        "\n",
        "1. **Creación de Listas:**\n",
        "   - Crea una lista llamada `numeros` que contenga los números del 1 al 5.\n",
        "\n",
        "2. **Indexación en Listas:**\n",
        "   - Imprime el tercer elemento de la lista `colores`.\n",
        "\n",
        "3. **Concatenación de Listas:**\n",
        "   - Concatena las listas `frutas` y `verduras` en una nueva lista llamada `alimentos`.\n",
        "\n",
        "4. **Longitud de Lista:**\n",
        "   - Imprime la longitud de la lista `ciudades`.\n",
        "\n",
        "5. **Mínimo y Máximo en Listas:**\n",
        "   - Encuentra el mínimo y el máximo en la lista `edades`.\n",
        "\n",
        "6. **Ordenamiento de Listas:**\n",
        "   - Ordena la lista `puntuaciones` de menor a mayor.\n",
        "\n",
        "7. **Listas con Tipos de Datos Mixtos:**\n",
        "   - Crea una lista llamada `datos` con un entero, una cadena y un valor decimal.\n",
        "\n",
        "8. **Acceso a Elementos Mixtos:**\n",
        "   - Imprime el segundo elemento de la lista `mezcla`.\n",
        "\n",
        "9. **Modificación de Elementos:**\n",
        "   - Cambia el tercer elemento de la lista `nombres` por \"Ana\".\n",
        "\n",
        "10. **Slicing en Listas:**\n",
        "    - Crea una nueva lista llamada `parte_ciudades` que contenga las ciudades del índice 1 al 3 de la lista `ciudades`.\n",
        "\n"
      ],
      "metadata": {
        "id": "KvbS_FtAVooj"
      }
    },
    {
      "cell_type": "code",
      "execution_count": null,
      "metadata": {
        "id": "C6Ck_my8VKP3"
      },
      "outputs": [],
      "source": [
        "# Información previa\n",
        "# Puedes usar las siguientes listas en los ejercicios:\n",
        "\n",
        "# Lista para el ejercicio 2\n",
        "colores = [\"rojo\", \"verde\", \"azul\"]\n",
        "\n",
        "# Listas para el ejercicio 3\n",
        "frutas = [\"manzana\", \"banana\", \"naranja\"]\n",
        "verduras = [\"zanahoria\", \"lechuga\", \"tomate\"]\n",
        "\n",
        "# Lista para el ejercicio 4\n",
        "ciudades = [\"Nueva York\", \"Londres\", \"París\", \"Tokio\"]\n",
        "\n",
        "# Lista para el ejercicio 5\n",
        "edades = [25, 32, 18, 45, 50]\n",
        "\n",
        "# Lista para el ejercicio 6\n",
        "puntuaciones = [8, 3, 5, 1, 10]\n",
        "\n",
        "# Lista para el ejercicio 7\n",
        "datos = [42, \"Python\", 3.14]\n",
        "\n",
        "# Lista para el ejercicio 8\n",
        "mezcla = [True, \"Hola\", 42.0]\n",
        "\n",
        "# Lista para el ejercicio 9\n",
        "nombres = [\"Juan\", \"María\", \"Carlos\"]\n",
        "\n",
        "# Lista para el ejercicio 10\n",
        "parte_ciudades = ciudades  # Se usará en el ejercicio 10\n"
      ]
    },
    {
      "cell_type": "markdown",
      "source": [
        "# **Soluciones**\n",
        "---"
      ],
      "metadata": {
        "id": "35JrR6IsWhPD"
      }
    },
    {
      "cell_type": "code",
      "source": [
        "# Solución Ejercicio 1: Creación de Listas\n",
        "numeros = [1, 2, 3, 4, 5]\n",
        "print(numeros)"
      ],
      "metadata": {
        "id": "vKFxFT_6Wkkd"
      },
      "execution_count": null,
      "outputs": []
    },
    {
      "cell_type": "code",
      "source": [
        "# Solución Ejercicio 2: Indexación en Listas\n",
        "colores = [\"rojo\", \"verde\", \"azul\"]\n",
        "print(colores[2])  # Tercer elemento"
      ],
      "metadata": {
        "id": "VYA5MZzEWsRz"
      },
      "execution_count": null,
      "outputs": []
    },
    {
      "cell_type": "code",
      "source": [
        "# Solución Ejercicio 3: Concatenación de Listas\n",
        "frutas = [\"manzana\", \"banana\", \"naranja\"]\n",
        "verduras = [\"zanahoria\", \"lechuga\", \"tomate\"]\n",
        "alimentos = frutas + verduras\n",
        "print(alimentos)"
      ],
      "metadata": {
        "id": "uf61Yp4iWuLk"
      },
      "execution_count": null,
      "outputs": []
    },
    {
      "cell_type": "code",
      "source": [
        "# Solución Ejercicio 4: Longitud de Lista\n",
        "ciudades = [\"Nueva York\", \"Londres\", \"París\", \"Tokio\"]"
      ],
      "metadata": {
        "id": "BtDrqOZ_Wzwd"
      },
      "execution_count": null,
      "outputs": []
    },
    {
      "cell_type": "code",
      "source": [
        "# Solución Ejercicio 5: Mínimo y Máximo en Listas\n",
        "edades = [25, 32, 18, 45, 50]\n",
        "print(min(edades))  # Edad mínima\n",
        "print(max(edades))  # Edad máxima"
      ],
      "metadata": {
        "id": "rdeykWNbW6bL"
      },
      "execution_count": null,
      "outputs": []
    },
    {
      "cell_type": "code",
      "source": [
        "# Solución Ejercicio 6: Ordenamiento de Listas\n",
        "puntuaciones = [8, 3, 5, 1, 10]\n",
        "puntuaciones_ordenadas = sorted(puntuaciones)\n",
        "print(puntuaciones_ordenadas)"
      ],
      "metadata": {
        "id": "kEtFa554W-Tw"
      },
      "execution_count": null,
      "outputs": []
    },
    {
      "cell_type": "code",
      "source": [
        "# Solución Ejercicio 7: Listas con Tipos de Datos Mixtos\n",
        "datos = [42, \"Python\", 3.14]\n",
        "print(datos)"
      ],
      "metadata": {
        "id": "zq6mGxw0W--W"
      },
      "execution_count": null,
      "outputs": []
    },
    {
      "cell_type": "code",
      "source": [
        "# Solución Ejercicio 8: Acceso a Elementos Mixtos\n",
        "mezcla = [True, \"Hola\", 42.0]\n",
        "print(mezcla[1])  # Segundo elemento"
      ],
      "metadata": {
        "id": "IlB6sgsoXC-S"
      },
      "execution_count": null,
      "outputs": []
    },
    {
      "cell_type": "code",
      "source": [
        "# Solución Ejercicio 9: Modificación de Elementos\n",
        "nombres = [\"Juan\", \"María\", \"Carlos\"]\n",
        "nombres[2] = \"Ana\"\n",
        "print(nombres)"
      ],
      "metadata": {
        "id": "24KXS0FiXDdp"
      },
      "execution_count": null,
      "outputs": []
    },
    {
      "cell_type": "code",
      "source": [
        "# Solución Ejercicio 10: Slicing en Listas\n",
        "parte_ciudades = ciudades[1:4]\n",
        "print(parte_ciudades)"
      ],
      "metadata": {
        "id": "22GsyDvsXFX3"
      },
      "execution_count": null,
      "outputs": []
    }
  ]
}