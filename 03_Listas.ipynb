{
  "nbformat": 4,
  "nbformat_minor": 0,
  "metadata": {
    "colab": {
      "provenance": [],
      "include_colab_link": true
    },
    "kernelspec": {
      "name": "python3",
      "display_name": "Python 3"
    },
    "language_info": {
      "name": "python"
    }
  },
  "cells": [
    {
      "cell_type": "markdown",
      "metadata": {
        "id": "view-in-github",
        "colab_type": "text"
      },
      "source": [
        "<a href=\"https://colab.research.google.com/github/dinamicjuanjo/Curso-Python_techguy/blob/main/03_Listas.ipynb\" target=\"_parent\"><img src=\"https://colab.research.google.com/assets/colab-badge.svg\" alt=\"Open In Colab\"/></a>"
      ]
    },
    {
      "cell_type": "markdown",
      "source": [
        "# 🐍  ¡Bienvenidos a Python con Colab! 🚀\n",
        "---\n",
        "¡Saludos y bienvenidos a nuestro emocionante Curso de Python! En esta sección, nos sumergiremos en el fascinante mundo de la programación con Python, haciendo uso de la magia de Google Colab.\n",
        "\n",
        "🔍 Durante este módulo, exploraremos los conceptos esenciales de Python, desde variables y operadores hasta estructuras de control de flujo. Utilizaremos Google Colab como nuestro entorno de desarrollo, permitiéndonos ejecutar y experimentar con código Python de manera interactiva.\n",
        "\n",
        "🚀 Prepárense para un viaje de aprendizaje práctico y amigable. ¡Comencemos nuestro emocionante viaje de programación juntos!"
      ],
      "metadata": {
        "id": "L8upy4uc7U4i"
      }
    },
    {
      "cell_type": "code",
      "execution_count": null,
      "metadata": {
        "id": "wOS3MN2h7Sr0"
      },
      "outputs": [],
      "source": []
    },
    {
      "cell_type": "markdown",
      "source": [
        "# **Listas**\n",
        "---\n",
        "Una lista es una colección de valores arbitrarios que se puede almacenar en una variable. Una lista en Python se define como una secuencia de valores separados por comas y delimitada por corchetes, [ ]:\n",
        "\n",
        "<pre>my_lista = [a, b, c]</pre>\n",
        "\n",
        "Las listas:\n",
        "* Están ordenadas y no son únicamente una colección de valores.\n",
        "* Pueden contener cualquier tipo de valor u objeto.\n",
        "* Se puede acceder a sus elementos vía indexación.\n",
        "* Pueden anidar un número de listas arbitrario.\n",
        "* Son dinámicas y mutables.\n",
        "\n",
        "El orden en el que se especifican los valores de una lista es relevante.\n"
      ],
      "metadata": {
        "id": "ZX9Cvs1C74iy"
      }
    },
    {
      "cell_type": "code",
      "source": [
        "#IMPORTA EL ORDEN?\n",
        "a=[1,2,3]\n",
        "b=[2,3,1]\n",
        "\n",
        "a==b"
      ],
      "metadata": {
        "colab": {
          "base_uri": "https://localhost:8080/"
        },
        "id": "WfOJ2gG-8GhX",
        "outputId": "5f4cb054-553e-46a5-e050-0e269524fbda"
      },
      "execution_count": null,
      "outputs": [
        {
          "output_type": "execute_result",
          "data": {
            "text/plain": [
              "False"
            ]
          },
          "metadata": {},
          "execution_count": 1
        }
      ]
    },
    {
      "cell_type": "code",
      "source": [
        "#Pueden contener valores de distintos tipos\n",
        "a=[1, 'hola',True, 9.8,[1,2,3]]\n",
        "a"
      ],
      "metadata": {
        "colab": {
          "base_uri": "https://localhost:8080/"
        },
        "id": "RxCN3Uma8XO2",
        "outputId": "c155d693-e315-4bab-aae1-a3be4fdc0ee8"
      },
      "execution_count": null,
      "outputs": [
        {
          "output_type": "execute_result",
          "data": {
            "text/plain": [
              "[1, 'hola', True, 9.8, [1, 2, 3]]"
            ]
          },
          "metadata": {},
          "execution_count": 2
        }
      ]
    },
    {
      "cell_type": "markdown",
      "source": [
        "El número de elementos de una lista sólo está limitado por la memoria disponible."
      ],
      "metadata": {
        "id": "ZbM1D6KO87Ha"
      }
    },
    {
      "cell_type": "code",
      "source": [
        "print(type(a))"
      ],
      "metadata": {
        "colab": {
          "base_uri": "https://localhost:8080/"
        },
        "id": "aPXdR55e8p9z",
        "outputId": "b04109ae-e4f2-4a1b-cc60-e6192e078c17"
      },
      "execution_count": null,
      "outputs": [
        {
          "output_type": "stream",
          "name": "stdout",
          "text": [
            "<class 'list'>\n"
          ]
        }
      ]
    },
    {
      "cell_type": "markdown",
      "source": [
        "Podemos usar la indexacion y el slicing con las listas tambien."
      ],
      "metadata": {
        "id": "AdTT-oaf9Fi6"
      }
    },
    {
      "cell_type": "code",
      "source": [
        "a[1]"
      ],
      "metadata": {
        "colab": {
          "base_uri": "https://localhost:8080/",
          "height": 36
        },
        "id": "9OemVDRv89PH",
        "outputId": "f768ed20-dc45-4792-9037-8adb072e3632"
      },
      "execution_count": null,
      "outputs": [
        {
          "output_type": "execute_result",
          "data": {
            "text/plain": [
              "'hola'"
            ],
            "application/vnd.google.colaboratory.intrinsic+json": {
              "type": "string"
            }
          },
          "metadata": {},
          "execution_count": 4
        }
      ]
    },
    {
      "cell_type": "code",
      "source": [
        "a[0:3]"
      ],
      "metadata": {
        "colab": {
          "base_uri": "https://localhost:8080/"
        },
        "id": "EAHY8l0J9Kr2",
        "outputId": "ad870842-8aab-4bdf-9129-677f93d918d2"
      },
      "execution_count": null,
      "outputs": [
        {
          "output_type": "execute_result",
          "data": {
            "text/plain": [
              "[1, 'hola', True]"
            ]
          },
          "metadata": {},
          "execution_count": 5
        }
      ]
    },
    {
      "cell_type": "code",
      "source": [
        "a[::-1]"
      ],
      "metadata": {
        "colab": {
          "base_uri": "https://localhost:8080/"
        },
        "id": "bBr1CJFB9NHs",
        "outputId": "63de7814-5f7e-4e94-e6d0-18270c58c1d9"
      },
      "execution_count": null,
      "outputs": [
        {
          "output_type": "execute_result",
          "data": {
            "text/plain": [
              "[[1, 2, 3], 9.8, True, 'hola', 1]"
            ]
          },
          "metadata": {},
          "execution_count": 6
        }
      ]
    },
    {
      "cell_type": "markdown",
      "source": [
        "El índice [:] realiza una copia de la lista. El operador <i>is</i> nos indica que es un nuevo objeto."
      ],
      "metadata": {
        "id": "jgi24F_D9dRk"
      }
    },
    {
      "cell_type": "code",
      "source": [
        "b=a[:]\n",
        "print('¿Son el mismo objeto?', a is b)\n",
        "print('¿Son iguales?', a==b)"
      ],
      "metadata": {
        "colab": {
          "base_uri": "https://localhost:8080/"
        },
        "id": "zE2Uy7N19PCo",
        "outputId": "c0dab193-973d-49ad-c25c-8ef2c0555d3b"
      },
      "execution_count": null,
      "outputs": [
        {
          "output_type": "stream",
          "name": "stdout",
          "text": [
            "¿Son el mismo objeto? False\n",
            "¿Son iguales? True\n"
          ]
        }
      ]
    },
    {
      "cell_type": "markdown",
      "source": [
        "La concatenación y multiplicación de listas es igual que para cadenas de caracteres. Las concatenaciones se realizan entre objetos del mismo tipo, en este caso listas."
      ],
      "metadata": {
        "id": "ZpyCoya695vB"
      }
    },
    {
      "cell_type": "code",
      "source": [
        "a + [1,2]"
      ],
      "metadata": {
        "colab": {
          "base_uri": "https://localhost:8080/"
        },
        "id": "MFZ8DBSD9nQr",
        "outputId": "99a58a54-d7bb-4298-dd2d-34543c200690"
      },
      "execution_count": null,
      "outputs": [
        {
          "output_type": "execute_result",
          "data": {
            "text/plain": [
              "[1, 'hola', True, 9.8, [1, 2, 3], 1, 2]"
            ]
          },
          "metadata": {},
          "execution_count": 9
        }
      ]
    },
    {
      "cell_type": "code",
      "source": [
        "[1,2]*10"
      ],
      "metadata": {
        "colab": {
          "base_uri": "https://localhost:8080/"
        },
        "id": "SGtXXRqO98ks",
        "outputId": "b9bcc800-0371-4da6-f023-7cff3fb1b5f6"
      },
      "execution_count": null,
      "outputs": [
        {
          "output_type": "execute_result",
          "data": {
            "text/plain": [
              "[1, 2, 1, 2, 1, 2, 1, 2, 1, 2, 1, 2, 1, 2, 1, 2, 1, 2, 1, 2]"
            ]
          },
          "metadata": {},
          "execution_count": 10
        }
      ]
    },
    {
      "cell_type": "markdown",
      "source": [
        "#### funciones <i>len()</i>, <i>min()</i>, <i>max()</i>, <i>sum()</i> y <i>sorted()</i>\n",
        "\n",
        "Hay varias funciones que aplican comunmente a listas:\n",
        "    \n",
        "* <i>len()</i>: devuelve el tamaño de la lista.\n",
        "* <i>min()</i>: devuelve el valor mínimo de la lista. (Mismo tipo de dato)\n",
        "* <i>max()</i>: devuelve el valor máximo de la lista. (Mismo tipo de dato)\n",
        "* <i>sum()</i>: devuelve la suma de los valores de la lista. (valores numericos)\n",
        "* <i>sorted()</i>: devuelve copia de la lista ordenada. (Mismo tipo de dato)"
      ],
      "metadata": {
        "id": "jq-PKMkI-Ub0"
      }
    },
    {
      "cell_type": "code",
      "source": [
        "#Tamaño   len()\n",
        "a=[1,2,3,4]\n",
        "print(len(a))\n",
        "\n",
        "b='hola que tal'\n",
        "len(b)"
      ],
      "metadata": {
        "colab": {
          "base_uri": "https://localhost:8080/"
        },
        "id": "kX0C-rLo9_d3",
        "outputId": "8f133ba0-8ad6-442c-8c5a-9c1922a128b4"
      },
      "execution_count": null,
      "outputs": [
        {
          "output_type": "stream",
          "name": "stdout",
          "text": [
            "4\n"
          ]
        },
        {
          "output_type": "execute_result",
          "data": {
            "text/plain": [
              "12"
            ]
          },
          "metadata": {},
          "execution_count": 11
        }
      ]
    },
    {
      "cell_type": "markdown",
      "source": [
        "Las funciones min() y max() tambien pueden aplicarse a cadenas de texto"
      ],
      "metadata": {
        "id": "4Q_J5Vxy_-tJ"
      }
    },
    {
      "cell_type": "code",
      "source": [
        "#Valor minimo min()\n",
        "a=[3,2,6,7]\n",
        "print(min(a)) #Orden numerico\n",
        "b=['a','g','b','e']\n",
        "min(b) #Orden alfanumerico"
      ],
      "metadata": {
        "colab": {
          "base_uri": "https://localhost:8080/",
          "height": 235
        },
        "id": "oIoFqjCe-Rwh",
        "outputId": "c7b0063b-92a3-49b3-d315-a69c7323fd7c"
      },
      "execution_count": null,
      "outputs": [
        {
          "output_type": "stream",
          "name": "stdout",
          "text": [
            "2\n"
          ]
        },
        {
          "output_type": "error",
          "ename": "TypeError",
          "evalue": "ignored",
          "traceback": [
            "\u001b[0;31m---------------------------------------------------------------------------\u001b[0m",
            "\u001b[0;31mTypeError\u001b[0m                                 Traceback (most recent call last)",
            "\u001b[0;32m<ipython-input-13-99f9b764ff01>\u001b[0m in \u001b[0;36m<cell line: 5>\u001b[0;34m()\u001b[0m\n\u001b[1;32m      3\u001b[0m \u001b[0mprint\u001b[0m\u001b[0;34m(\u001b[0m\u001b[0mmin\u001b[0m\u001b[0;34m(\u001b[0m\u001b[0ma\u001b[0m\u001b[0;34m)\u001b[0m\u001b[0;34m)\u001b[0m \u001b[0;31m#Orden numerico\u001b[0m\u001b[0;34m\u001b[0m\u001b[0;34m\u001b[0m\u001b[0m\n\u001b[1;32m      4\u001b[0m \u001b[0mb\u001b[0m\u001b[0;34m=\u001b[0m\u001b[0;34m[\u001b[0m\u001b[0;36m1\u001b[0m\u001b[0;34m,\u001b[0m\u001b[0;34m'g'\u001b[0m\u001b[0;34m,\u001b[0m\u001b[0;34m'b'\u001b[0m\u001b[0;34m,\u001b[0m\u001b[0;34m'e'\u001b[0m\u001b[0;34m]\u001b[0m\u001b[0;34m\u001b[0m\u001b[0;34m\u001b[0m\u001b[0m\n\u001b[0;32m----> 5\u001b[0;31m \u001b[0mmin\u001b[0m\u001b[0;34m(\u001b[0m\u001b[0mb\u001b[0m\u001b[0;34m)\u001b[0m \u001b[0;31m#Orden alfanumerico\u001b[0m\u001b[0;34m\u001b[0m\u001b[0;34m\u001b[0m\u001b[0m\n\u001b[0m",
            "\u001b[0;31mTypeError\u001b[0m: '<' not supported between instances of 'str' and 'int'"
          ]
        }
      ]
    },
    {
      "cell_type": "code",
      "source": [
        "#Valor máximo  max()\n",
        "a=[3,2,6,7,9.5]\n",
        "print(max(a)) #Orden numerico\n",
        "b=['a','g','b','e']\n",
        "max(b) #Orden alfanumerico"
      ],
      "metadata": {
        "colab": {
          "base_uri": "https://localhost:8080/",
          "height": 54
        },
        "id": "4WeSuHre_Yi6",
        "outputId": "0ec3c0b0-3646-4db7-9b0c-7bfd9cef00b4"
      },
      "execution_count": null,
      "outputs": [
        {
          "output_type": "stream",
          "name": "stdout",
          "text": [
            "9.5\n"
          ]
        },
        {
          "output_type": "execute_result",
          "data": {
            "text/plain": [
              "'g'"
            ],
            "application/vnd.google.colaboratory.intrinsic+json": {
              "type": "string"
            }
          },
          "metadata": {},
          "execution_count": 14
        }
      ]
    },
    {
      "cell_type": "code",
      "source": [
        "#Suma   sum()\n",
        "a=[1,2,3.5,4] #Se pueden combinar enteros con decimales\n",
        "sum(a)"
      ],
      "metadata": {
        "colab": {
          "base_uri": "https://localhost:8080/"
        },
        "id": "P1ZiQCoH_2a_",
        "outputId": "54692477-3bfc-4536-f1ed-97e70835b912"
      },
      "execution_count": null,
      "outputs": [
        {
          "output_type": "execute_result",
          "data": {
            "text/plain": [
              "10.5"
            ]
          },
          "metadata": {},
          "execution_count": 16
        }
      ]
    },
    {
      "cell_type": "code",
      "source": [
        "#Ordenado\n",
        "a=[1,3,4,5]\n",
        "print(sorted(a))\n",
        "\n",
        "b=['a','g','b','1'] #Orden alfanumrico\n",
        "print(sorted(b))\n",
        "\n",
        "#Tambien puede aplicarse a cadenas de texto\n",
        "sorted('hola')"
      ],
      "metadata": {
        "colab": {
          "base_uri": "https://localhost:8080/"
        },
        "id": "Vl2B8rOOA23q",
        "outputId": "d5ef5de6-a4c8-4ebf-91a5-e89f7a9ed6e3"
      },
      "execution_count": null,
      "outputs": [
        {
          "output_type": "stream",
          "name": "stdout",
          "text": [
            "[1, 3, 4, 5]\n",
            "['1', 'a', 'b', 'g']\n"
          ]
        },
        {
          "output_type": "execute_result",
          "data": {
            "text/plain": [
              "['a', 'h', 'l', 'o']"
            ]
          },
          "metadata": {},
          "execution_count": 17
        }
      ]
    },
    {
      "cell_type": "markdown",
      "source": [
        "En caso de que tengamos multiples tipos de datos y queramos aplicar las funciones anteriores podemos especificar a que tipo de dato convertirlos.\n",
        "Usamos el parametro key."
      ],
      "metadata": {
        "id": "4pyzi5rZFTUt"
      }
    },
    {
      "cell_type": "code",
      "source": [
        "#Ejemplo\n",
        "\n",
        "a=[1,3,5,7,'1','10','0']\n",
        "\n",
        "min(a,key=int)"
      ],
      "metadata": {
        "colab": {
          "base_uri": "https://localhost:8080/",
          "height": 36
        },
        "id": "Ne8amEvZBFAz",
        "outputId": "0fd3d97c-dffe-44c6-b988-d69a046f761f"
      },
      "execution_count": null,
      "outputs": [
        {
          "output_type": "execute_result",
          "data": {
            "text/plain": [
              "'0'"
            ],
            "application/vnd.google.colaboratory.intrinsic+json": {
              "type": "string"
            }
          },
          "metadata": {},
          "execution_count": 21
        }
      ]
    },
    {
      "cell_type": "markdown",
      "source": [
        "## Dinamicas y mutable\n",
        "\n",
        "Quiere decir que pueden modificarse los valores de la lista."
      ],
      "metadata": {
        "id": "1sLNSslMGFHm"
      }
    },
    {
      "cell_type": "code",
      "source": [
        "a=[1,2,3,4]\n",
        "a[0]=29\n",
        "a"
      ],
      "metadata": {
        "colab": {
          "base_uri": "https://localhost:8080/"
        },
        "id": "HvvVt1NjFlSP",
        "outputId": "b2a5a4b8-e1de-4f0d-82ec-57f2f888adcb"
      },
      "execution_count": null,
      "outputs": [
        {
          "output_type": "execute_result",
          "data": {
            "text/plain": [
              "[29, 2, 3, 4]"
            ]
          },
          "metadata": {},
          "execution_count": 22
        }
      ]
    },
    {
      "cell_type": "code",
      "source": [
        "del a[2]\n",
        "a"
      ],
      "metadata": {
        "colab": {
          "base_uri": "https://localhost:8080/"
        },
        "id": "YI0aWhBTGQsJ",
        "outputId": "29832152-5d2f-4bd1-cf01-6133386e57a2"
      },
      "execution_count": null,
      "outputs": [
        {
          "output_type": "execute_result",
          "data": {
            "text/plain": [
              "[29, 2, 4]"
            ]
          },
          "metadata": {},
          "execution_count": 23
        }
      ]
    },
    {
      "cell_type": "markdown",
      "source": [
        "Más adelante veremos algunos métodos para las listas que nos puedan ser de utilidad una vez hallamos visto el resto de tipos de colleciones de datos."
      ],
      "metadata": {
        "id": "fiJ9-9EpGvRg"
      }
    }
  ]
}