{
  "nbformat": 4,
  "nbformat_minor": 0,
  "metadata": {
    "colab": {
      "provenance": [],
      "include_colab_link": true
    },
    "kernelspec": {
      "name": "python3",
      "display_name": "Python 3"
    },
    "language_info": {
      "name": "python"
    }
  },
  "cells": [
    {
      "cell_type": "markdown",
      "metadata": {
        "id": "view-in-github",
        "colab_type": "text"
      },
      "source": [
        "<a href=\"https://colab.research.google.com/github/dinamicjuanjo/Curso-Python_techguy/blob/main/04_Lectura_por_teclado.ipynb\" target=\"_parent\"><img src=\"https://colab.research.google.com/assets/colab-badge.svg\" alt=\"Open In Colab\"/></a>"
      ]
    },
    {
      "cell_type": "markdown",
      "source": [
        "# 🐍  ¡Bienvenidos a Python con Colab! 🚀\n",
        "---\n",
        "¡Saludos y bienvenidos a nuestro emocionante Curso de Python! En esta sección, nos sumergiremos en el fascinante mundo de la programación con Python, haciendo uso de la magia de Google Colab.\n",
        "\n",
        "🔍 Durante este módulo, exploraremos los conceptos esenciales de Python, desde variables y operadores hasta estructuras de control de flujo. Utilizaremos Google Colab como nuestro entorno de desarrollo, permitiéndonos ejecutar y experimentar con código Python de manera interactiva.\n",
        "\n",
        "🚀 Prepárense para un viaje de aprendizaje práctico y amigable. ¡Comencemos nuestro emocionante viaje de programación juntos!"
      ],
      "metadata": {
        "id": "ymdOpuCG_1tl"
      }
    },
    {
      "cell_type": "code",
      "execution_count": null,
      "metadata": {
        "id": "hktKzKsj_yol"
      },
      "outputs": [],
      "source": []
    },
    {
      "cell_type": "markdown",
      "source": [
        "# **Lectura por teclado**\n",
        "---\n",
        "La función input() es la manera principal de obtener entrada del usuario. Veamos cómo funciona:"
      ],
      "metadata": {
        "id": "7-td4dVvZDHe"
      }
    },
    {
      "cell_type": "code",
      "source": [
        "variable=input()\n",
        "print(variable)"
      ],
      "metadata": {
        "colab": {
          "base_uri": "https://localhost:8080/"
        },
        "id": "63gTfU7mZKoB",
        "outputId": "8fe91486-eaee-4a96-ee3b-b85e648614e2"
      },
      "execution_count": null,
      "outputs": [
        {
          "output_type": "stream",
          "name": "stdout",
          "text": [
            "pepito\n",
            "pepito\n"
          ]
        }
      ]
    },
    {
      "cell_type": "markdown",
      "source": [
        "Vamos a ayudar al usuario a entender que introducir"
      ],
      "metadata": {
        "id": "LyLXDKwSZaCO"
      }
    },
    {
      "cell_type": "code",
      "source": [
        "nombre=input('Introduce tu nombre: ')\n",
        "print('Me llamo ', nombre)"
      ],
      "metadata": {
        "colab": {
          "base_uri": "https://localhost:8080/"
        },
        "id": "dlpzjlqwZOO6",
        "outputId": "fefc5627-9643-42e0-e77b-e30713a6187e"
      },
      "execution_count": null,
      "outputs": [
        {
          "output_type": "stream",
          "name": "stdout",
          "text": [
            "Introduce tu nombre: Mario\n",
            "Me llamo  Mario\n"
          ]
        }
      ]
    },
    {
      "cell_type": "markdown",
      "source": [
        "Cuando usamos input(), la entrada se toma como una cadena. Si necesitamos números, debemos convertirlos:"
      ],
      "metadata": {
        "id": "A4Sj5g5fZyDh"
      }
    },
    {
      "cell_type": "code",
      "source": [
        "variable=input('Introduce algo: ')\n",
        "\n",
        "print(type(variable))"
      ],
      "metadata": {
        "colab": {
          "base_uri": "https://localhost:8080/"
        },
        "id": "8YpgPfvCZiDt",
        "outputId": "8ffa035a-ad5b-4890-f000-80a8de0b6cc8"
      },
      "execution_count": null,
      "outputs": [
        {
          "output_type": "stream",
          "name": "stdout",
          "text": [
            "Introduce algo: 90\n",
            "<class 'str'>\n"
          ]
        }
      ]
    },
    {
      "cell_type": "code",
      "source": [
        "edad=input('Introduce tu edad: ')\n",
        "edad=int(edad)\n",
        "\n",
        "print(type(edad))"
      ],
      "metadata": {
        "colab": {
          "base_uri": "https://localhost:8080/"
        },
        "id": "QftoYSffaACl",
        "outputId": "989fa86b-310f-4022-ded2-5e9b387e1fbd"
      },
      "execution_count": null,
      "outputs": [
        {
          "output_type": "stream",
          "name": "stdout",
          "text": [
            "Introduce tu edad: 90\n",
            "<class 'int'>\n"
          ]
        }
      ]
    },
    {
      "cell_type": "markdown",
      "source": [
        "Puede hacerse directamente:"
      ],
      "metadata": {
        "id": "qIG6fe2NaWhH"
      }
    },
    {
      "cell_type": "code",
      "source": [
        "peso=float(input('Introduce tu peso con decimales: '))\n",
        "\n",
        "print(type(peso),peso)"
      ],
      "metadata": {
        "colab": {
          "base_uri": "https://localhost:8080/"
        },
        "id": "z1snFQd2aNgm",
        "outputId": "acd9af03-ae82-4080-c00a-1ae0c850a464"
      },
      "execution_count": null,
      "outputs": [
        {
          "output_type": "stream",
          "name": "stdout",
          "text": [
            "Introduce tu peso con decimales: 99.9\n",
            "<class 'float'> 99.9\n"
          ]
        }
      ]
    },
    {
      "cell_type": "code",
      "source": [
        "try:\n",
        "  peso=float(input('Introduce tu peso con decimales:'))\n",
        "except:\n",
        "  print('Ha habido un error')"
      ],
      "metadata": {
        "id": "wQaY8b9YaisZ",
        "colab": {
          "base_uri": "https://localhost:8080/"
        },
        "outputId": "f083bc46-91e6-4b84-b4b0-eac8549c6881"
      },
      "execution_count": null,
      "outputs": [
        {
          "output_type": "stream",
          "name": "stdout",
          "text": [
            "Introduce tu peso con decimales:hola\n",
            "Ha habido un error\n"
          ]
        }
      ]
    },
    {
      "cell_type": "code",
      "source": [],
      "metadata": {
        "id": "n0BfbPjNep5m"
      },
      "execution_count": null,
      "outputs": []
    }
  ]
}