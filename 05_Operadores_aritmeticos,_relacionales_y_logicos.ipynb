{
  "nbformat": 4,
  "nbformat_minor": 0,
  "metadata": {
    "colab": {
      "provenance": [],
      "include_colab_link": true
    },
    "kernelspec": {
      "name": "python3",
      "display_name": "Python 3"
    },
    "language_info": {
      "name": "python"
    }
  },
  "cells": [
    {
      "cell_type": "markdown",
      "metadata": {
        "id": "view-in-github",
        "colab_type": "text"
      },
      "source": [
        "<a href=\"https://colab.research.google.com/github/dinamicjuanjo/Curso-Python_techguy/blob/main/05_Operadores_aritmeticos%2C_relacionales_y_logicos.ipynb\" target=\"_parent\"><img src=\"https://colab.research.google.com/assets/colab-badge.svg\" alt=\"Open In Colab\"/></a>"
      ]
    },
    {
      "cell_type": "markdown",
      "source": [
        "# 🐍  ¡Bienvenidos a Python con Colab! 🚀\n",
        "---\n",
        "¡Saludos y bienvenidos a nuestro emocionante Curso de Python! En esta sección, nos sumergiremos en el fascinante mundo de la programación con Python, haciendo uso de la magia de Google Colab.\n",
        "\n",
        "🔍 Durante este módulo, exploraremos los conceptos esenciales de Python, desde variables y operadores hasta estructuras de control de flujo. Utilizaremos Google Colab como nuestro entorno de desarrollo, permitiéndonos ejecutar y experimentar con código Python de manera interactiva.\n",
        "\n",
        "🚀 Prepárense para un viaje de aprendizaje práctico y amigable. ¡Comencemos nuestro emocionante viaje de programación juntos!"
      ],
      "metadata": {
        "id": "tz8Dr2r-3_sk"
      }
    },
    {
      "cell_type": "code",
      "execution_count": null,
      "metadata": {
        "id": "yFJku_O13-iS"
      },
      "outputs": [],
      "source": []
    },
    {
      "cell_type": "markdown",
      "source": [
        "## Operadores aritméticos\n",
        "---\n",
        "La siguiente lista contiene los operadores aritméticos soportados por los tipos numéricos **int** y **float**.\n",
        "\n",
        "| Símbolo | Operación |\n",
        "|----|---|\n",
        "| +  | Suma |\n",
        "| -  | Resta o negación|\n",
        "| *  | Multiplicación |\n",
        "| /  | División |\n",
        "| //  | División entera |\n",
        "| %  | Módulo (o resto) |\n",
        "| **  | Exponenciación |\n",
        "| pow(x, y)  | Exponenciación |\n",
        "| abs(x)| Valor absoluto |\n"
      ],
      "metadata": {
        "id": "8-mjVquU58Iv"
      }
    },
    {
      "cell_type": "code",
      "source": [
        "#Veamos ejemplos\n",
        "a=3\n",
        "b=2"
      ],
      "metadata": {
        "id": "oLPXEfTo6NIt"
      },
      "execution_count": null,
      "outputs": []
    },
    {
      "cell_type": "code",
      "source": [
        "#Suma\n",
        "a+b"
      ],
      "metadata": {
        "colab": {
          "base_uri": "https://localhost:8080/",
          "height": 36
        },
        "id": "8iK6pCeD283A",
        "outputId": "b6e77622-a575-4db2-f090-a7048ad1b873"
      },
      "execution_count": null,
      "outputs": [
        {
          "output_type": "execute_result",
          "data": {
            "text/plain": [
              "'holaque tal'"
            ],
            "application/vnd.google.colaboratory.intrinsic+json": {
              "type": "string"
            }
          },
          "metadata": {},
          "execution_count": 3
        }
      ]
    },
    {
      "cell_type": "code",
      "source": [
        "#Resta\n",
        "a-b"
      ],
      "metadata": {
        "id": "8hstzstM3EL5",
        "colab": {
          "base_uri": "https://localhost:8080/"
        },
        "outputId": "bbd46325-811d-4e9c-de31-8870c9e500fe"
      },
      "execution_count": null,
      "outputs": [
        {
          "output_type": "execute_result",
          "data": {
            "text/plain": [
              "1"
            ]
          },
          "metadata": {},
          "execution_count": 4
        }
      ]
    },
    {
      "cell_type": "code",
      "source": [
        "#Multiplicacion\n",
        "a*b"
      ],
      "metadata": {
        "id": "8rNedJ1P3GHB",
        "colab": {
          "base_uri": "https://localhost:8080/",
          "height": 36
        },
        "outputId": "67ff4198-69c3-44f8-9fff-2f2eae63ef07"
      },
      "execution_count": null,
      "outputs": [
        {
          "output_type": "execute_result",
          "data": {
            "text/plain": [
              "'aaaaaaaaaa'"
            ],
            "application/vnd.google.colaboratory.intrinsic+json": {
              "type": "string"
            }
          },
          "metadata": {},
          "execution_count": 6
        }
      ]
    },
    {
      "cell_type": "code",
      "source": [
        "#Division\n",
        "a/b"
      ],
      "metadata": {
        "id": "RPHyEgyN3Idg",
        "colab": {
          "base_uri": "https://localhost:8080/"
        },
        "outputId": "c56568e5-359a-4a95-e113-e740116280a0"
      },
      "execution_count": null,
      "outputs": [
        {
          "output_type": "execute_result",
          "data": {
            "text/plain": [
              "1.5"
            ]
          },
          "metadata": {},
          "execution_count": 7
        }
      ]
    },
    {
      "cell_type": "code",
      "source": [
        "#Division entera\n",
        "a //b"
      ],
      "metadata": {
        "id": "ZhsiVHNc3Koz",
        "colab": {
          "base_uri": "https://localhost:8080/"
        },
        "outputId": "9402c1bf-e271-4ac6-afa8-a2b6b84b66eb"
      },
      "execution_count": null,
      "outputs": [
        {
          "output_type": "execute_result",
          "data": {
            "text/plain": [
              "1"
            ]
          },
          "metadata": {},
          "execution_count": 8
        }
      ]
    },
    {
      "cell_type": "code",
      "source": [
        "#Módulo (resto)\n",
        "a%b"
      ],
      "metadata": {
        "id": "eBAcMTkx3M3Q",
        "colab": {
          "base_uri": "https://localhost:8080/"
        },
        "outputId": "a38c02ed-f07e-4452-9e88-4b79cd0de679"
      },
      "execution_count": null,
      "outputs": [
        {
          "output_type": "execute_result",
          "data": {
            "text/plain": [
              "1"
            ]
          },
          "metadata": {},
          "execution_count": 9
        }
      ]
    },
    {
      "cell_type": "code",
      "source": [
        "#Exponenciacion\n",
        "print(a**2)\n",
        "pow(a,2)"
      ],
      "metadata": {
        "id": "CIuJ5Jjw3RYX",
        "colab": {
          "base_uri": "https://localhost:8080/"
        },
        "outputId": "1ed160d2-094a-45a8-bcb0-c3a07084c47d"
      },
      "execution_count": null,
      "outputs": [
        {
          "output_type": "stream",
          "name": "stdout",
          "text": [
            "9\n"
          ]
        },
        {
          "output_type": "execute_result",
          "data": {
            "text/plain": [
              "9"
            ]
          },
          "metadata": {},
          "execution_count": 10
        }
      ]
    },
    {
      "cell_type": "code",
      "source": [
        "#Valor absoluto\n",
        "c=5\n",
        "abs(c)"
      ],
      "metadata": {
        "id": "KplDvLm63WIF",
        "colab": {
          "base_uri": "https://localhost:8080/"
        },
        "outputId": "a2b21e1e-d203-4269-cfcc-5742a1d1fe9f"
      },
      "execution_count": null,
      "outputs": [
        {
          "output_type": "execute_result",
          "data": {
            "text/plain": [
              "5"
            ]
          },
          "metadata": {},
          "execution_count": 12
        }
      ]
    },
    {
      "cell_type": "markdown",
      "source": [
        "Python da soporte a operaciones aritméticas con tipos mixtos. El resultado es del tipo numérico de mayor complejidad. De menor a mayor complejidad:\n",
        "\n",
        "1. int\n",
        "2. float"
      ],
      "metadata": {
        "id": "alSXfTww6bQb"
      }
    },
    {
      "cell_type": "code",
      "source": [
        "3+ 4.0 #Se queda con el tipo mas complejo en este caso float"
      ],
      "metadata": {
        "colab": {
          "base_uri": "https://localhost:8080/"
        },
        "id": "bgDT2nEl6cSL",
        "outputId": "b3046285-6a88-4cc2-942a-12221a71cf32"
      },
      "execution_count": null,
      "outputs": [
        {
          "output_type": "execute_result",
          "data": {
            "text/plain": [
              "7.0"
            ]
          },
          "metadata": {},
          "execution_count": 13
        }
      ]
    },
    {
      "cell_type": "markdown",
      "source": [
        "Para redondear podemos usar la funcion round():\n"
      ],
      "metadata": {
        "id": "hUaj8n977roZ"
      }
    },
    {
      "cell_type": "code",
      "source": [
        "#Redondeando al numero entero\n",
        "round(2.345)"
      ],
      "metadata": {
        "colab": {
          "base_uri": "https://localhost:8080/"
        },
        "id": "Ym225OcG7n0l",
        "outputId": "bc590fcc-5572-4cdf-acc3-2e8ba671f352"
      },
      "execution_count": null,
      "outputs": [
        {
          "output_type": "execute_result",
          "data": {
            "text/plain": [
              "2"
            ]
          },
          "metadata": {},
          "execution_count": 14
        }
      ]
    },
    {
      "cell_type": "code",
      "source": [
        "#Redondeando a un numero concreto de decimales\n",
        "round(2.4566,2)"
      ],
      "metadata": {
        "colab": {
          "base_uri": "https://localhost:8080/"
        },
        "id": "lUdIrXHR2Pc-",
        "outputId": "e607c1da-495f-4e52-8d93-f69955993340"
      },
      "execution_count": null,
      "outputs": [
        {
          "output_type": "execute_result",
          "data": {
            "text/plain": [
              "2.46"
            ]
          },
          "metadata": {},
          "execution_count": 15
        }
      ]
    },
    {
      "cell_type": "markdown",
      "source": [
        "El módulo [**math**](#https://docs.python.org/3.7/library/math.html) proporciona funciones matemáticas. Para importar un módulo, empleamos la declaración **import** seguido del nombre del módulo.\n",
        "\n",
        "---\n",
        "&#x26a0;&#xfe0f; El uso avanzado de **imports** se introducirá más adelante. Para l@s curios@s: https://docs.python.org/3/reference/import.html\n",
        "\n",
        "---"
      ],
      "metadata": {
        "id": "HeqscPkd7-pj"
      }
    },
    {
      "cell_type": "code",
      "source": [
        "#Importamos el modulo\n",
        "import math"
      ],
      "metadata": {
        "id": "fjLu7_Vw7yw7"
      },
      "execution_count": null,
      "outputs": []
    },
    {
      "cell_type": "code",
      "source": [
        "#Para redondear hacia arriba\n",
        "math.ceil(3.1)"
      ],
      "metadata": {
        "colab": {
          "base_uri": "https://localhost:8080/"
        },
        "id": "v-tbIjcu8DMB",
        "outputId": "6aae7d37-dfb2-4675-8638-0b0121427c1d"
      },
      "execution_count": null,
      "outputs": [
        {
          "output_type": "execute_result",
          "data": {
            "text/plain": [
              "4"
            ]
          },
          "metadata": {},
          "execution_count": 17
        }
      ]
    },
    {
      "cell_type": "code",
      "source": [
        "#Para redondear hacia abajo\n",
        "math.floor(4.9)"
      ],
      "metadata": {
        "colab": {
          "base_uri": "https://localhost:8080/"
        },
        "id": "AuvN-TVP8Gqq",
        "outputId": "ea18ce70-4284-4f7e-c9e2-063a4fe02de4"
      },
      "execution_count": null,
      "outputs": [
        {
          "output_type": "execute_result",
          "data": {
            "text/plain": [
              "4"
            ]
          },
          "metadata": {},
          "execution_count": 18
        }
      ]
    },
    {
      "cell_type": "markdown",
      "source": [
        "## Aplicando a cadenas de texto\n",
        "Se pueden concatenar cadenas de texto usando **+**\n",
        "\n",
        "Se pueden concatenar cadenas iguales multiples veces con *"
      ],
      "metadata": {
        "id": "wCsenqSn0_-s"
      }
    },
    {
      "cell_type": "code",
      "source": [
        "#Concatenacion de cadenas\n",
        "pal1='Hola'\n",
        "pal2='Que tal'\n",
        "\n",
        "pal1 + pal2"
      ],
      "metadata": {
        "colab": {
          "base_uri": "https://localhost:8080/",
          "height": 36
        },
        "id": "xMlF3g1a1nYa",
        "outputId": "a11ec83e-ffe0-45b7-a3b0-5296501d8807"
      },
      "execution_count": null,
      "outputs": [
        {
          "output_type": "execute_result",
          "data": {
            "text/plain": [
              "'HolaQue tal'"
            ],
            "application/vnd.google.colaboratory.intrinsic+json": {
              "type": "string"
            }
          },
          "metadata": {},
          "execution_count": 1
        }
      ]
    },
    {
      "cell_type": "code",
      "source": [
        "#Concatenando muchas iguales\n",
        "pal1='Hola'\n",
        "\n",
        "pal1*3"
      ],
      "metadata": {
        "colab": {
          "base_uri": "https://localhost:8080/",
          "height": 36
        },
        "id": "nOF2uWox1zlJ",
        "outputId": "dff7fca9-2dde-47c3-f397-9dec51f18eef"
      },
      "execution_count": null,
      "outputs": [
        {
          "output_type": "execute_result",
          "data": {
            "text/plain": [
              "'HolaHolaHola'"
            ],
            "application/vnd.google.colaboratory.intrinsic+json": {
              "type": "string"
            }
          },
          "metadata": {},
          "execution_count": 5
        }
      ]
    },
    {
      "cell_type": "markdown",
      "source": [
        "## Operadores relacionales (comparaciones)\n",
        "---\n",
        "Los valores booleanos son el resultado de expresiones que utilizan operadores relacionales (comparaciones entre valores).\n",
        "\n",
        "| Símbolo | Operación |\n",
        "|----|---|\n",
        "| == | igual |\n",
        "| !=  | no igual |\n",
        "| < | menor que|\n",
        "| > | mayor que |\n",
        "| <=  | menor o igual que |\n",
        "| >=  | mayor o igual que |\n",
        "| is  | identidad |"
      ],
      "metadata": {
        "id": "s6dT96R2BttL"
      }
    },
    {
      "cell_type": "code",
      "source": [
        "#Igualdad\n",
        "print(3==3)\n",
        "print('hola'=='que')"
      ],
      "metadata": {
        "colab": {
          "base_uri": "https://localhost:8080/"
        },
        "id": "FAov5owUCcE8",
        "outputId": "6387c322-1509-4cca-ed79-0184ac668e74"
      },
      "execution_count": null,
      "outputs": [
        {
          "output_type": "stream",
          "name": "stdout",
          "text": [
            "True\n",
            "False\n"
          ]
        }
      ]
    },
    {
      "cell_type": "code",
      "source": [
        "#Diferente\n",
        "print(3!=3)\n",
        "print('hola'!='que')"
      ],
      "metadata": {
        "id": "aV5AUXUH4niU",
        "colab": {
          "base_uri": "https://localhost:8080/"
        },
        "outputId": "94f4a70b-5dcb-4704-ec1b-5ab973203217"
      },
      "execution_count": null,
      "outputs": [
        {
          "output_type": "stream",
          "name": "stdout",
          "text": [
            "False\n",
            "True\n"
          ]
        }
      ]
    },
    {
      "cell_type": "code",
      "source": [
        "#Menor y menor igual\n",
        "print(3 < 4)\n",
        "\n",
        "print(3<=3)"
      ],
      "metadata": {
        "id": "dCXdnMkX41Wr",
        "colab": {
          "base_uri": "https://localhost:8080/"
        },
        "outputId": "dfde579e-6e14-45fa-8cb6-28cd0716f664"
      },
      "execution_count": null,
      "outputs": [
        {
          "output_type": "stream",
          "name": "stdout",
          "text": [
            "True\n",
            "True\n"
          ]
        }
      ]
    },
    {
      "cell_type": "code",
      "source": [
        "#Mayor y mayor igual\n",
        "print(3> 4)\n",
        "\n",
        "print( 4>=4)"
      ],
      "metadata": {
        "id": "-rmQaQhz5Csy",
        "colab": {
          "base_uri": "https://localhost:8080/"
        },
        "outputId": "0141257a-2c86-4621-bdab-8c428cf78a57"
      },
      "execution_count": null,
      "outputs": [
        {
          "output_type": "stream",
          "name": "stdout",
          "text": [
            "False\n",
            "True\n"
          ]
        }
      ]
    },
    {
      "cell_type": "markdown",
      "source": [
        "Para ver el identificador que python le da a un objeto (al guardarlo en memoria) usamos la funcion id()"
      ],
      "metadata": {
        "id": "1Dl0LJN7CcoB"
      }
    },
    {
      "cell_type": "code",
      "source": [
        "a=29\n",
        "b=29\n",
        "print('Identificador de A: ', id(a))\n",
        "print('Identificador de B: ', id(b))\n",
        "\n",
        "print(a==b)\n",
        "\n",
        "print(a is b)"
      ],
      "metadata": {
        "colab": {
          "base_uri": "https://localhost:8080/"
        },
        "id": "rpSiaGqYCkSX",
        "outputId": "ab10c427-f52b-45cc-a9b9-6b75fdf726fc"
      },
      "execution_count": null,
      "outputs": [
        {
          "output_type": "stream",
          "name": "stdout",
          "text": [
            "Identificador de A:  133398923461744\n",
            "Identificador de B:  133398923461744\n",
            "True\n",
            "True\n"
          ]
        }
      ]
    },
    {
      "cell_type": "markdown",
      "source": [
        "El operador **is** evalua si ambas variables se refieren al mismo objeto en memoria.\n",
        "Tema avanzado: https://realpython.com/python-is-identity-vs-equality/ para saber más sobre las diferencias entre los operadores <i>=</i> e **is**."
      ],
      "metadata": {
        "id": "XAGDUjCdE4wi"
      }
    },
    {
      "cell_type": "code",
      "source": [
        "a=[1,2,3,4]\n",
        "b=[1,2,3,4]\n",
        "print('Identificador de A: ', id(a))\n",
        "print('Identificador de B: ', id(b))\n",
        "\n",
        "print(a==b)\n",
        "\n",
        "print(a is b)"
      ],
      "metadata": {
        "colab": {
          "base_uri": "https://localhost:8080/"
        },
        "id": "grt_3G1xEJMc",
        "outputId": "ea5ae6ce-ecf5-49cf-8416-5b21c25659e2"
      },
      "execution_count": null,
      "outputs": [
        {
          "output_type": "stream",
          "name": "stdout",
          "text": [
            "Identificador de A:  133398427643648\n",
            "Identificador de B:  133398545684480\n",
            "True\n",
            "False\n"
          ]
        }
      ]
    },
    {
      "cell_type": "code",
      "source": [
        "a='hola que tal'\n",
        "b='hola que tal'\n",
        "print('Identificador de A: ', id(a))\n",
        "print('Identificador de B: ', id(b))\n",
        "\n",
        "print(a==b)\n",
        "\n",
        "print(a is b)"
      ],
      "metadata": {
        "colab": {
          "base_uri": "https://localhost:8080/"
        },
        "id": "oReKTO5KEfFb",
        "outputId": "1e69e85a-a189-4c64-be0f-a37c586c04ed"
      },
      "execution_count": null,
      "outputs": [
        {
          "output_type": "stream",
          "name": "stdout",
          "text": [
            "Identificador de A:  133398427924144\n",
            "Identificador de B:  133398427924144\n",
            "True\n",
            "True\n"
          ]
        }
      ]
    },
    {
      "cell_type": "markdown",
      "source": [
        "En Python, la palabra clave **in** se utiliza como operador para verificar la pertenencia de un valor en una secuencia (listas,cadenas de texto...)."
      ],
      "metadata": {
        "id": "_8o9VfoMHn4m"
      }
    },
    {
      "cell_type": "code",
      "source": [
        "'A' not in 'ABERRONCHO'"
      ],
      "metadata": {
        "colab": {
          "base_uri": "https://localhost:8080/"
        },
        "id": "r7RSN2w0BHL8",
        "outputId": "4be0b386-a05c-4918-ba63-3c8ad27cdd50"
      },
      "execution_count": null,
      "outputs": [
        {
          "output_type": "execute_result",
          "data": {
            "text/plain": [
              "False"
            ]
          },
          "metadata": {},
          "execution_count": 29
        }
      ]
    },
    {
      "cell_type": "code",
      "source": [
        "1 in [1,2,3,4,5]"
      ],
      "metadata": {
        "colab": {
          "base_uri": "https://localhost:8080/"
        },
        "id": "hEfFY8k8HwCw",
        "outputId": "a170762e-17d8-485c-8371-4db846b0bd87"
      },
      "execution_count": null,
      "outputs": [
        {
          "output_type": "execute_result",
          "data": {
            "text/plain": [
              "True"
            ]
          },
          "metadata": {},
          "execution_count": 28
        }
      ]
    },
    {
      "cell_type": "markdown",
      "source": [
        "## Operadores lógicos\n",
        "---\n",
        "Las cuatro operaciones básicas entre valores de tipo booleano se muestran en la siguiente tabla.\n",
        "\n",
        "| Símbolo | Operación |\n",
        "|----|---|\n",
        "| and | https://en.wikipedia.org/wiki/AND_gate |\n",
        "| or  | https://en.wikipedia.org/wiki/OR_gate |\n",
        "| ^   | https://en.wikipedia.org/wiki/XOR_gate |\n",
        "| not | https://en.wikipedia.org/wiki/NOT_gate |"
      ],
      "metadata": {
        "id": "Kwv5-LPcO1b9"
      }
    },
    {
      "cell_type": "markdown",
      "source": [
        "Empezamos por **AND**"
      ],
      "metadata": {
        "id": "Jn2lUlMePY-B"
      }
    },
    {
      "cell_type": "code",
      "source": [
        "print(False and False)\n",
        "print(False and True)\n",
        "print(True and False)\n",
        "print(True and True)"
      ],
      "metadata": {
        "colab": {
          "base_uri": "https://localhost:8080/"
        },
        "id": "NDqAfUMNPdHJ",
        "outputId": "b66f7c2a-7a79-4a69-d568-cf2d9654b546"
      },
      "execution_count": null,
      "outputs": [
        {
          "output_type": "stream",
          "name": "stdout",
          "text": [
            "False\n",
            "False\n",
            "False\n",
            "True\n"
          ]
        }
      ]
    },
    {
      "cell_type": "markdown",
      "source": [
        "**OR**"
      ],
      "metadata": {
        "id": "_RQr0UJLPjCB"
      }
    },
    {
      "cell_type": "code",
      "source": [
        "print(False or False)\n",
        "print(False or True)\n",
        "print(True or False)\n",
        "print(True or True)"
      ],
      "metadata": {
        "colab": {
          "base_uri": "https://localhost:8080/"
        },
        "id": "RonrQLSsPknM",
        "outputId": "d2f0820f-27cf-409c-aa02-ed40bd1cca8f"
      },
      "execution_count": null,
      "outputs": [
        {
          "output_type": "stream",
          "name": "stdout",
          "text": [
            "False\n",
            "True\n",
            "True\n",
            "True\n"
          ]
        }
      ]
    },
    {
      "cell_type": "markdown",
      "source": [
        "**XOR**"
      ],
      "metadata": {
        "id": "YIqp6ykKPzko"
      }
    },
    {
      "cell_type": "code",
      "source": [
        "print(False ^ False)\n",
        "print(False ^ True)\n",
        "print(True ^ False)\n",
        "print(True ^ True)"
      ],
      "metadata": {
        "id": "mpfkPm43PtDd",
        "colab": {
          "base_uri": "https://localhost:8080/"
        },
        "outputId": "3c488c96-9f4a-436b-8e4c-9c1ec9bca437"
      },
      "execution_count": null,
      "outputs": [
        {
          "output_type": "stream",
          "name": "stdout",
          "text": [
            "False\n",
            "True\n",
            "True\n",
            "False\n"
          ]
        }
      ]
    },
    {
      "cell_type": "markdown",
      "source": [
        "Otros ejemplos:"
      ],
      "metadata": {
        "id": "3yUuNwx_P_D0"
      }
    },
    {
      "cell_type": "code",
      "source": [
        "not False"
      ],
      "metadata": {
        "colab": {
          "base_uri": "https://localhost:8080/"
        },
        "id": "DRHyADyfQA0t",
        "outputId": "7718924a-973c-4fb1-8536-d5372296ea9a"
      },
      "execution_count": null,
      "outputs": [
        {
          "output_type": "execute_result",
          "data": {
            "text/plain": [
              "True"
            ]
          },
          "metadata": {},
          "execution_count": 33
        }
      ]
    },
    {
      "cell_type": "code",
      "source": [
        "'b' not in 'holab'"
      ],
      "metadata": {
        "colab": {
          "base_uri": "https://localhost:8080/"
        },
        "id": "fgL6KxQZScJD",
        "outputId": "cb194f91-e3d0-4878-c766-47cfc56e6218"
      },
      "execution_count": null,
      "outputs": [
        {
          "output_type": "execute_result",
          "data": {
            "text/plain": [
              "False"
            ]
          },
          "metadata": {},
          "execution_count": 35
        }
      ]
    },
    {
      "cell_type": "code",
      "source": [],
      "metadata": {
        "id": "WrPiHJy7HggZ"
      },
      "execution_count": null,
      "outputs": []
    }
  ]
}