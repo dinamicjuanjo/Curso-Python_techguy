{
  "nbformat": 4,
  "nbformat_minor": 0,
  "metadata": {
    "colab": {
      "provenance": [],
      "include_colab_link": true
    },
    "kernelspec": {
      "name": "python3",
      "display_name": "Python 3"
    },
    "language_info": {
      "name": "python"
    }
  },
  "cells": [
    {
      "cell_type": "markdown",
      "metadata": {
        "id": "view-in-github",
        "colab_type": "text"
      },
      "source": [
        "<a href=\"https://colab.research.google.com/github/dinamicjuanjo/Curso-Python_techguy/blob/main/06_Ejercicios.ipynb\" target=\"_parent\"><img src=\"https://colab.research.google.com/assets/colab-badge.svg\" alt=\"Open In Colab\"/></a>"
      ]
    },
    {
      "cell_type": "markdown",
      "source": [
        "\n",
        "\n",
        "# **Ejercicios**\n",
        "---\n",
        "\n",
        "1. **Creación de Tupla Simple**\n",
        "   - Crea una tupla llamada `mi_tupla` con al menos tres elementos.\n",
        "\n",
        "2. **Comparación de Tuplas**\n",
        "   - Crea dos tuplas, `tupla1` y `tupla2`, con elementos diferentes y verifica si son iguales.\n",
        "\n",
        "3. **Tupla con Diversos Tipos de Datos**\n",
        "   - Crea una tupla llamada `tupla_tipos` con al menos tres elementos de diferentes tipos de datos.\n",
        "\n",
        "4. **Indexación de Tupla**\n",
        "   - Utiliza una tupla llamada `frutas` con nombres de frutas e imprime el primer y último elemento.\n",
        "\n",
        "5. **Tuplas Anidadas**\n",
        "   - Crea una tupla anidada llamada `tp_anidada` con al menos dos niveles de anidación. Accede a un elemento en la tupla anidada.\n",
        "\n",
        "6. **Intento de Modificación (Error)**\n",
        "   - Intenta modificar un elemento en una tupla y observa el error resultante.\n",
        "\n",
        "7. **Creación de Tupla de un Solo Elemento**\n",
        "   - Crea una tupla llamada `tupla_un_elemento` con un solo elemento. Asegúrate de utilizar la coma al definirla.\n",
        "\n",
        "10. **Concatenación de Tuplas**\n",
        "    - Crea dos tuplas y concaténalas para formar una nueva tupla.\n",
        "\n",
        "11. **Creación de Tupla Vacía**\n",
        "    - Crea una tupla vacía llamada `tupla_vacia` y verifica su longitud.\n",
        "\n",
        "13. **Orden de Elementos en Tupla**\n",
        "    - Crea dos tuplas con los mismos elementos pero en orden diferente. Verifica si son iguales.\n",
        "\n",
        "16. **Comprobación de Existencia de Elemento**\n",
        "    - Utiliza el operador `in` para verificar si un elemento está presente en una tupla.\n",
        "\n",
        "17. **Creación de Tupla de Rango**\n",
        "    - Crea una tupla que contenga números enteros del 1 al 5.\n",
        "\n",
        "18. **Conversión de Lista a Tupla**\n",
        "    - Convierte una lista en una tupla y verifica su tipo.\n",
        "\n",
        "19. **Eliminar una Tupla**\n",
        "    - Crea una tupla y luego elimínala utilizando el comando `del`.\n",
        "\n",
        "---\n"
      ],
      "metadata": {
        "id": "3VsUxSS7LQS4"
      }
    },
    {
      "cell_type": "code",
      "execution_count": null,
      "metadata": {
        "id": "G0FDGDk4LOUV"
      },
      "outputs": [],
      "source": []
    },
    {
      "cell_type": "markdown",
      "source": [
        "# **Soluciones**\n",
        "---"
      ],
      "metadata": {
        "id": "EsxEX7DgLiOI"
      }
    },
    {
      "cell_type": "code",
      "source": [
        "# Soluciones Actualizadas\n",
        "\n",
        "# Ejercicio 1\n",
        "mi_tupla = (1, \"dos\", 3.0)\n",
        "\n",
        "# Ejercicio 2\n",
        "tupla1 = (1, 2, 3)\n",
        "tupla2 = (4, 5, 6)\n",
        "\n",
        "# Ejercicio 3\n",
        "tupla_tipos = (1, \"dos\", 3.0)\n",
        "\n",
        "# Ejercicio 4\n",
        "frutas = (\"Manzana\", \"Plátano\", \"Fresa\", \"Uva\")\n",
        "\n",
        "# Ejercicio 5\n",
        "tp_anidada = (1, 2, ('a', 'b'), (3, 4))\n",
        "elemento_anidado = tp_anidada[2][1]\n",
        "\n",
        "# Ejercicio 6\n",
        "# Las tuplas son inmutables, no se puede modificar un elemento\n",
        "\n",
        "# Ejercicio 7\n",
        "tupla_un_elemento = (1,)\n",
        "\n",
        "# Ejercicio 10\n",
        "tupla_concatenada = tupla1 + tupla2\n",
        "\n",
        "# Ejercicio 11\n",
        "tupla_vacia = ()\n",
        "\n",
        "# Ejercicio 13\n",
        "tupla_ordenada = (1, 2, 3)\n",
        "tupla_desordenada = (2, 3, 1)\n",
        "\n",
        "# Ejercicio 16\n",
        "elemento_a_verificar = 2\n",
        "existe_en_tupla = elemento_a_verificar in tupla_ordenada\n",
        "\n",
        "# Ejercicio 17\n",
        "tupla_rango = tuple(range(1, 6))\n",
        "\n",
        "# Ejercicio 18\n",
        "lista_a_convertir = [\"a\", \"b\", \"c\"]\n",
        "tupla_desde_lista = tuple(lista_a_convertir)\n",
        "\n",
        "# Ejercicio 19\n",
        "tupla_a_eliminar = (1, 2, 3)\n",
        "del tupla_a_eliminar\n",
        "\n",
        "\n",
        "\n"
      ],
      "metadata": {
        "id": "8FTz1PmzLkdb"
      },
      "execution_count": null,
      "outputs": []
    }
  ]
}