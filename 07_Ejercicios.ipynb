{
  "nbformat": 4,
  "nbformat_minor": 0,
  "metadata": {
    "colab": {
      "provenance": [],
      "include_colab_link": true
    },
    "kernelspec": {
      "name": "python3",
      "display_name": "Python 3"
    },
    "language_info": {
      "name": "python"
    }
  },
  "cells": [
    {
      "cell_type": "markdown",
      "metadata": {
        "id": "view-in-github",
        "colab_type": "text"
      },
      "source": [
        "<a href=\"https://colab.research.google.com/github/dinamicjuanjo/Curso-Python_techguy/blob/main/07_Ejercicios.ipynb\" target=\"_parent\"><img src=\"https://colab.research.google.com/assets/colab-badge.svg\" alt=\"Open In Colab\"/></a>"
      ]
    },
    {
      "cell_type": "markdown",
      "source": [
        "# **Ejercicios**\n",
        "---\n",
        "\n",
        "1. **Creación de Set**\n",
        "   - Crea un set llamado `mi_set` con al menos tres elementos.\n",
        "\n",
        "2. **Comparación de Sets**\n",
        "   - Crea dos sets, `set1` y `set2`, con elementos diferentes. Verifica si son iguales.\n",
        "\n",
        "3. **Creación de Set a partir de Iteradores**\n",
        "   - Crea un set llamado `set_iterador` a partir de un iterador que contenga al menos cuatro elementos.\n",
        "\n",
        "4. **Set Vacío vs Set con Valores**\n",
        "   - Crea un set vacío llamado `set_vacio` utilizando la función `set()`.\n",
        "\n",
        "5. **Set con Elemento no Hashable**\n",
        "   - Crea un set llamado `set_no_hashable` que contenga al menos dos elementos, uno de ellos siendo una lista.\n",
        "\n",
        "6. **Verificación de Existencia en Set**\n",
        "   - Utiliza el operador `in` para verificar si el valor 1 está presente en el set `set_iterador`.\n",
        "\n",
        "7. **Operaciones de Sets**\n",
        "   - Realiza las siguientes operaciones con los sets `s1` y `s2`:\n",
        "     - Union\n",
        "     - Intersección\n",
        "     - Diferencia\n",
        "\n",
        "8. **Añadir Elemento al Set**\n",
        "   - Añade el elemento 'python' al set `s1` utilizando el método adecuado.\n",
        "\n",
        "9. **Eliminar Elemento del Set**\n",
        "   - Elimina el elemento 'pyc' del set `s1` utilizando el método adecuado.\n",
        "\n",
        "10. **Copia de Set**\n",
        "    - Crea una copia del set `s1` llamada `copia_s1` y verifica si son el mismo objeto y si son iguales.\n",
        "\n",
        "11. **Vaciar Set**\n",
        "    - Utiliza el método adecuado para vaciar el set `s1`.\n",
        "\n",
        "---\n"
      ],
      "metadata": {
        "id": "8NxqFFnhG5ch"
      }
    },
    {
      "cell_type": "code",
      "execution_count": null,
      "metadata": {
        "id": "uSpITV547PBA"
      },
      "outputs": [],
      "source": []
    },
    {
      "cell_type": "markdown",
      "source": [
        "# **Soluciones**\n",
        "---"
      ],
      "metadata": {
        "id": "OGwwQFHsH0KB"
      }
    },
    {
      "cell_type": "code",
      "source": [
        "# Soluciones\n",
        "\n",
        "# Ejercicio 1\n",
        "mi_set = {1, 'dos', 3.0}\n",
        "\n",
        "# Ejercicio 2\n",
        "set1 = {0, 1, 2, 3, 4, 5}\n",
        "set2 = set((0, 1, 2, 3, 4, 5))\n",
        "\n",
        "# Ejercicio 3\n",
        "set_iterador = set([1, 'dos', 3.0, 'cuatro'])\n",
        "\n",
        "# Ejercicio 4\n",
        "set_vacio = set()\n",
        "\n",
        "# Ejercicio 5\n",
        "set_no_hashable = {1, 2, (1, 2, 3)}\n",
        "\n",
        "# Ejercicio 6\n",
        "verificacion_existencia = 1 in set_iterador\n",
        "\n",
        "# Ejercicio 7\n",
        "s1 = {'pyc', 'pyd', 'pyx'}\n",
        "s2 = {'py', 'pyc', 'ipynb'}\n",
        "union_resultado = s1.union(s2)\n",
        "interseccion_resultado = s1.intersection(s2)\n",
        "diferencia_resultado = s1.difference(s2)\n",
        "\n",
        "# Ejercicio 8\n",
        "s1.add('python')\n",
        "\n",
        "# Ejercicio 9\n",
        "s1.discard('pyc')\n",
        "\n",
        "# Ejercicio 10\n",
        "copia_s1 = s1.copy()\n",
        "son_mismo_objeto = copia_s1 is s1\n",
        "son_iguales = copia_s1 == s1\n",
        "\n",
        "# Ejercicio 11\n",
        "s1.clear()\n",
        "\n"
      ],
      "metadata": {
        "id": "e1hrkd6hH2ch"
      },
      "execution_count": null,
      "outputs": []
    }
  ]
}