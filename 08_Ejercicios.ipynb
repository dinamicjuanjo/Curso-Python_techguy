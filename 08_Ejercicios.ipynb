{
  "nbformat": 4,
  "nbformat_minor": 0,
  "metadata": {
    "colab": {
      "provenance": [],
      "include_colab_link": true
    },
    "kernelspec": {
      "name": "python3",
      "display_name": "Python 3"
    },
    "language_info": {
      "name": "python"
    }
  },
  "cells": [
    {
      "cell_type": "markdown",
      "metadata": {
        "id": "view-in-github",
        "colab_type": "text"
      },
      "source": [
        "<a href=\"https://colab.research.google.com/github/dinamicjuanjo/Curso-Python_techguy/blob/main/08_Ejercicios.ipynb\" target=\"_parent\"><img src=\"https://colab.research.google.com/assets/colab-badge.svg\" alt=\"Open In Colab\"/></a>"
      ]
    },
    {
      "cell_type": "markdown",
      "source": [
        "# **Ejercicios**\n",
        "---\n",
        "\n",
        "\n",
        "1. **Creación de Diccionario Estandar**\n",
        "   - Crea un diccionario llamado `persona` con al menos tres pares clave-valor, incluyendo un valor que sea una lista.\n",
        "\n",
        "2. **Diccionario Incremental**\n",
        "   - Crea un diccionario vacío llamado `d2` y añade al menos tres pares clave-valor de manera incremental.\n",
        "\n",
        "3. **Utilizando una Lista de Tuplas**\n",
        "   - Crea un diccionario llamado `estudiante` utilizando una lista de tuplas con información sobre un estudiante (nombre, edad, cursos, etc.).\n",
        "\n",
        "4. **Modo Keywords**\n",
        "   - Crea un diccionario llamado `info_personal` utilizando el modo de keywords con al menos tres pares clave-valor.\n",
        "\n",
        "5. **Claves Únicas**\n",
        "   - Crea un diccionario con al menos dos pares clave-valor donde una clave se repite. Verifica que la clave repetida toma el último valor asignado.\n",
        "\n",
        "6. **Datos Hashable como Claves**\n",
        "   - Crea un diccionario utilizando un conjunto y un entero como claves.\n",
        "\n",
        "7. **Acceso y Actualización de Valores**\n",
        "   - Accede al valor asociado a la clave 'nombre' en el diccionario `info_personal`. Luego, actualiza el valor asociado a la clave 'edad' a un nuevo valor.\n",
        "\n",
        "8. **Anidamiento de Diccionarios**\n",
        "   - Crea un diccionario llamado `informacion` que tenga al menos un diccionario anidado con información adicional.\n",
        "\n",
        "9. **Verificación de Existencia de Clave**\n",
        "   - Utiliza el operador `in` para verificar si la clave 'hola' está presente en el diccionario `info_personal`.\n",
        "\n",
        "10. **Métodos de Diccionario**\n",
        "    - Utiliza los métodos `.keys()`, `.values()`, y `.items()` en el diccionario `informacion` e imprime los resultados.\n",
        "\n",
        "11. **Método .get()**\n",
        "    - Utiliza el método `.get()` para obtener el valor asociado a la clave 'info' en el diccionario `informacion`. Luego, intenta obtener el valor asociado a una clave que no existe y proporciona un valor por defecto.\n",
        "\n",
        "---\n"
      ],
      "metadata": {
        "id": "XhCY3-T0GHNs"
      }
    },
    {
      "cell_type": "code",
      "execution_count": null,
      "metadata": {
        "id": "B6whxFSGFS-C"
      },
      "outputs": [],
      "source": []
    },
    {
      "cell_type": "markdown",
      "source": [
        "# **Soluciones**\n",
        "---\n"
      ],
      "metadata": {
        "id": "8HcoOg_ZGp-K"
      }
    },
    {
      "cell_type": "code",
      "source": [
        "# Soluciones\n",
        "\n",
        "# Ejercicio 1\n",
        "persona = {\n",
        "    'nombre': 'Mario',\n",
        "    'edad': 19,\n",
        "    'cursos': ['Python', 'Finanzas']\n",
        "}\n",
        "\n",
        "# Ejercicio 2\n",
        "d2 = dict()\n",
        "d2['nombre'] = 'Carlos'\n",
        "d2['edad'] = 22\n",
        "d2['cursos'] = ['Python', 'Finanzas']\n",
        "\n",
        "# Ejercicio 3\n",
        "estudiante = dict([('nombre', 'Carlos'), ('edad', 22), ('cursos', ['Python', 'Finanzas'])])\n",
        "\n",
        "# Ejercicio 4\n",
        "info_personal = dict(\n",
        "    nombre='Carlos',\n",
        "    edad=22,\n",
        "    cursos=['Python', 'Finanzas']\n",
        ")\n",
        "\n",
        "# Ejercicio 5\n",
        "clave_repetida = {\"a\": 2, \"a\": 3, 'b': {'a': 1}}\n",
        "\n",
        "# Ejercicio 6\n",
        "datos_hashable = {(1, 2): 3, 'a': 2}\n",
        "\n",
        "# Ejercicio 7\n",
        "print(info_personal['nombre'])\n",
        "info_personal['edad'] = 25\n",
        "\n",
        "# Ejercicio 8\n",
        "informacion = {\n",
        "    'nombre': 'Pepito',\n",
        "    'info': {\n",
        "        'nombre_dentro': 'Marito',\n",
        "        'info': 'loquesea'\n",
        "    }\n",
        "}\n",
        "\n",
        "# Ejercicio 9\n",
        "clave_existente = 'hola' in informacion\n",
        "\n",
        "# Ejercicio 10\n",
        "keys_resultado = informacion.keys()\n",
        "values_resultado = informacion.values()\n",
        "items_resultado = informacion.items()\n",
        "\n",
        "# Ejercicio 11\n",
        "valor_info = informacion.get('info')\n",
        "valor_inexistente = informacion.get('inexistente', 'Valor por defecto')\n",
        "\n"
      ],
      "metadata": {
        "id": "duo186lLGw0s"
      },
      "execution_count": null,
      "outputs": []
    }
  ]
}